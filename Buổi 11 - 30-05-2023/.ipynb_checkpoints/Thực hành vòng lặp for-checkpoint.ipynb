{
 "cells": [
  {
   "cell_type": "code",
   "execution_count": null,
   "id": "7c279d99",
   "metadata": {},
   "outputs": [],
   "source": [
    "'''\n",
    "Warm-up: In ra 10 số tự nhiên đầu tiên từ 1 đến 10\n",
    "'''"
   ]
  },
  {
   "cell_type": "code",
   "execution_count": 2,
   "id": "0437b0e1",
   "metadata": {},
   "outputs": [
    {
     "name": "stdout",
     "output_type": "stream",
     "text": [
      "1 2 3 4 5 6 7 8 9 10 "
     ]
    }
   ],
   "source": [
    "for i in range(1,11):\n",
    "    print(i, end=\" \")"
   ]
  },
  {
   "cell_type": "code",
   "execution_count": null,
   "id": "66918d7e",
   "metadata": {},
   "outputs": [],
   "source": [
    "'''\n",
    "Bài 1: Nhập vào số nguyên dương n. Tính tổng các số tự nhiên từ 1 đến n.\n",
    "'''"
   ]
  },
  {
   "cell_type": "code",
   "execution_count": 5,
   "id": "8e93dc7a",
   "metadata": {},
   "outputs": [
    {
     "name": "stdout",
     "output_type": "stream",
     "text": [
      "Please input a number: 10\n",
      "55\n"
     ]
    }
   ],
   "source": [
    "number_n = int(input(\"Please input a number: \"))\n",
    "sum_all = 0\n",
    "for i in range(1, number_n +1):\n",
    "    sum_all +=i\n",
    "print(sum_all)"
   ]
  },
  {
   "cell_type": "code",
   "execution_count": null,
   "id": "be255bdc",
   "metadata": {},
   "outputs": [],
   "source": [
    "'''\n",
    "Bài 2: Nhập vào số nguyên dương n. In ra bảng cửu chương từ 1 đến 10 của n.\n",
    "'''"
   ]
  },
  {
   "cell_type": "code",
   "execution_count": 9,
   "id": "a35ac139",
   "metadata": {},
   "outputs": [
    {
     "name": "stdout",
     "output_type": "stream",
     "text": [
      "Please input a number: 5\n",
      "5 * 1 = 5\n",
      "5 * 2 = 10\n",
      "5 * 3 = 15\n",
      "5 * 4 = 20\n",
      "5 * 5 = 25\n",
      "5 * 6 = 30\n",
      "5 * 7 = 35\n",
      "5 * 8 = 40\n",
      "5 * 9 = 45\n",
      "5 * 10 = 50\n"
     ]
    }
   ],
   "source": [
    "n = int(input(\"Please input a number: \"))\n",
    "\n",
    "for i in range (1, 11):\n",
    "    result = i * n\n",
    "    print(f\"{n} * {i} = {result}\")\n"
   ]
  },
  {
   "cell_type": "code",
   "execution_count": null,
   "id": "681c029c",
   "metadata": {},
   "outputs": [],
   "source": [
    "'''\n",
    "Bài 3: Nhập vào số nguyên dương n. Đếm xem n có bao nhiêu chữ số.\n",
    "'''"
   ]
  },
  {
   "cell_type": "code",
   "execution_count": 14,
   "id": "96899fa8",
   "metadata": {
    "scrolled": true
   },
   "outputs": [
    {
     "name": "stdout",
     "output_type": "stream",
     "text": [
      "Please input a number: 12345\n",
      "The number 12345 has 5 digits.\n"
     ]
    }
   ],
   "source": [
    "n = int(input(\"Please input a number: \"))\n",
    "\n",
    "digits = len(str(n))\n",
    "\n",
    "print(f\"The number {n} has {digits} digits.\")"
   ]
  },
  {
   "cell_type": "code",
   "execution_count": 16,
   "id": "5fca7127",
   "metadata": {},
   "outputs": [
    {
     "name": "stdout",
     "output_type": "stream",
     "text": [
      "Please input a number: 10\n",
      "There are 2 digits in number 10\n"
     ]
    }
   ],
   "source": [
    "n = int(input(\"Please input a number: \"))\n",
    "\n",
    "digits = 0\n",
    "for i in range(len(str(n))):\n",
    "    digits += 1\n",
    "\n",
    "print(f\"There are {digits} digits in number {n}\")\n"
   ]
  },
  {
   "cell_type": "code",
   "execution_count": null,
   "id": "7eb58122",
   "metadata": {},
   "outputs": [],
   "source": [
    "'''\n",
    "Bài 4: Nhập vào số nguyên dương n. Tính tổng các chữ số của n.\n",
    "'''"
   ]
  },
  {
   "cell_type": "code",
   "execution_count": 22,
   "id": "3dd5e76e",
   "metadata": {},
   "outputs": [
    {
     "name": "stdout",
     "output_type": "stream",
     "text": [
      "Please input a number: 123\n",
      "The sum of all digits in 123 is 6\n"
     ]
    }
   ],
   "source": [
    "n = int(input(\"Please input a number: \"))\n",
    "sum_number = 0\n",
    "\n",
    "for digit in str(n):\n",
    "    sum_number += int(digit)\n",
    "\n",
    "print(f\"The sum of all digits in {n} is {sum_number}\")\n"
   ]
  },
  {
   "cell_type": "code",
   "execution_count": null,
   "id": "cf0da697",
   "metadata": {},
   "outputs": [],
   "source": [
    "'''\n",
    "Bài 5: Nhập vào số nguyên dương n. Sử dụng cấu trúc vòng lặp lồng nhau(nested for loop) để in ra tam giác có dạng như sau:\n",
    "1\n",
    "1 2\n",
    "1 2 3\n",
    "1 2 3 4\n",
    "1 2 3 4 5\n",
    "'''"
   ]
  },
  {
   "cell_type": "code",
   "execution_count": 25,
   "id": "7f2b1a87",
   "metadata": {},
   "outputs": [
    {
     "name": "stdout",
     "output_type": "stream",
     "text": [
      "Please input a number: 10\n",
      "\n",
      "1 \n",
      "1 2 \n",
      "1 2 3 \n",
      "1 2 3 4 \n",
      "1 2 3 4 5 \n",
      "1 2 3 4 5 6 \n",
      "1 2 3 4 5 6 7 \n",
      "1 2 3 4 5 6 7 8 \n",
      "1 2 3 4 5 6 7 8 9 \n"
     ]
    }
   ],
   "source": [
    "n = int(input(\"Please input a number: \")) \n",
    "\n",
    "for i in range(1, n+1):  \n",
    "    for j in range(1, i): \n",
    "        print(j, end = \" \") \n",
    "    print()\n"
   ]
  },
  {
   "cell_type": "code",
   "execution_count": null,
   "id": "1ac5d880",
   "metadata": {},
   "outputs": [],
   "source": [
    "'''\n",
    "Bài 6: Nhập vào số nguyên dương n. Sử dụng cấu trúc vòng lặp lồng nhau(nested for loop) để in ra tam giác có dạng như sau:\n",
    "5 4 3 2 1\n",
    "4 3 2 1\n",
    "3 2 1\n",
    "2 1\n",
    "1\n",
    "'''"
   ]
  },
  {
   "cell_type": "code",
   "execution_count": 28,
   "id": "efb1c283",
   "metadata": {},
   "outputs": [
    {
     "name": "stdout",
     "output_type": "stream",
     "text": [
      "Please input a number: 5\n",
      "5 4 3 2 1 \n",
      "4 3 2 1 \n",
      "3 2 1 \n",
      "2 1 \n",
      "1 \n"
     ]
    }
   ],
   "source": [
    "n = int(input(\"Please input a number: \"))\n",
    "\n",
    "for i in range(n, 0, -1):\n",
    "    for j in range (i, 0, -1):\n",
    "        print(j, end = \" \")\n",
    "    print()"
   ]
  },
  {
   "cell_type": "code",
   "execution_count": null,
   "id": "5a16aa66",
   "metadata": {},
   "outputs": [],
   "source": [
    "'''\n",
    "Bài 7: Nhập vào một số nguyên dương n. Tính giai thừa của n.\n",
    "Note: Giai thừa của n được tính bằng công thức: n! = n*(n - 1)*(n - 2)*...*1\n",
    "Ví dụ: 5! = 5 × 4 × 3 × 2 × 1 = 120\n",
    "'''"
   ]
  },
  {
   "cell_type": "code",
   "execution_count": 33,
   "id": "b5f4b744",
   "metadata": {},
   "outputs": [
    {
     "name": "stdout",
     "output_type": "stream",
     "text": [
      "enter a number: 5\n",
      "n! = 120\n"
     ]
    }
   ],
   "source": [
    "n = int(input(\"enter a number: \"))\n",
    "\n",
    "\n",
    "for i in range(n-1 , 0, -1):\n",
    "    n *= i\n",
    "print(f\"n! = {n}\")\n"
   ]
  },
  {
   "cell_type": "code",
   "execution_count": null,
   "id": "8dfa4890",
   "metadata": {},
   "outputs": [],
   "source": [
    "'''\n",
    "Bài 8: Viết chương trình nhập vào một số nguyên dương n và in ra số đảo ngược của n.\n",
    "Ví dụ:\n",
    "Input: 76542\n",
    "Output: 24567\n",
    "'''"
   ]
  },
  {
   "cell_type": "code",
   "execution_count": 44,
   "id": "af868fb5",
   "metadata": {},
   "outputs": [
    {
     "name": "stdout",
     "output_type": "stream",
     "text": [
      "Please input a number: 412\n",
      "214"
     ]
    }
   ],
   "source": [
    "number = int(input(\"Please input a number: \"))\n",
    "\n",
    "for i in range (len(str(number))-1, -1, -1):\n",
    "    print(str(number)[i], end = \"\")"
   ]
  },
  {
   "cell_type": "code",
   "execution_count": 47,
   "id": "4e21bd2d",
   "metadata": {},
   "outputs": [
    {
     "name": "stdout",
     "output_type": "stream",
     "text": [
      "Enter a number: 123\n",
      "321"
     ]
    }
   ],
   "source": [
    "n = int(input(\"Enter a number: \"))\n",
    "\n",
    "for i in range(len(str(n))):\n",
    "    m = n % 10\n",
    "    n //= 10\n",
    "    print(m, end=\"\")"
   ]
  },
  {
   "cell_type": "code",
   "execution_count": null,
   "id": "ec9fd39e",
   "metadata": {},
   "outputs": [],
   "source": [
    "n = int(input(\"Enter a number: \"))\n",
    "m= 0\n",
    "while n > 0 :\n",
    "    m = n % 10\n",
    "    n//=10\n",
    "    print(m, end=\"\")\n",
    "    "
   ]
  },
  {
   "cell_type": "code",
   "execution_count": null,
   "id": "326700db",
   "metadata": {},
   "outputs": [],
   "source": [
    "'''\n",
    "Bài 9: Viết phần mềm nhập vào số n (từ 1 đến 9) và in ra tam giác có dạng như sau:\n",
    "1\n",
    "22\n",
    "333\n",
    "4444\n",
    "55555\n",
    "666666\n",
    "7777777\n",
    "88888888\n",
    "999999999\n",
    "'''"
   ]
  },
  {
   "attachments": {
    "image.png": {
     "image/png": "[encoded data removed]"
    }
   },
   "cell_type": "markdown",
   "id": "0499c8d1",
   "metadata": {},
   "source": [
    "![image.png](attachment:image.png)"
   ]
  },
  {
   "cell_type": "code",
   "execution_count": 48,
   "id": "a977c479",
   "metadata": {},
   "outputs": [
    {
     "name": "stdout",
     "output_type": "stream",
     "text": [
      "Please input a number: 5\n",
      "1\n",
      "22\n",
      "333\n",
      "4444\n",
      "55555\n"
     ]
    }
   ],
   "source": [
    "n=int(input(\"Please input a number: \"))\n",
    "for i in range(1,n+1):\n",
    " line = str(i)*i\n",
    " print(line)"
   ]
  },
  {
   "cell_type": "code",
   "execution_count": null,
   "id": "72a87d61",
   "metadata": {},
   "outputs": [],
   "source": [
    "'''\n",
    "Bài 10: Nhập vào một câu nói (mỗi từ cách nhau một khoảng trắng, không có dấu phẩy, chấm), hãy tách từng từ trong chuỗi ra rồi in lên màn hình. Mỗi từ in kèm với độ dài cửa từ đó\n",
    "\n",
    "Ví dụ:\n",
    "\n",
    "Nhập: Xin chào\n",
    "\n",
    "In:\n",
    "\n",
    "Xin 3\n",
    "\n",
    "Chào 4\n",
    "'''"
   ]
  },
  {
   "cell_type": "code",
   "execution_count": 52,
   "id": "7a41ba0e",
   "metadata": {},
   "outputs": [
    {
     "name": "stdout",
     "output_type": "stream",
     "text": [
      "Please input a sentence: hello my name is An\n",
      "hello 5\n",
      "my 2\n",
      "name 4\n",
      "is 2\n",
      "An 2\n"
     ]
    }
   ],
   "source": [
    "sentence = input(\"Please input a sentence: \")\n",
    "split_sentence = sentence.split()\n",
    "\n",
    "for i in range (0, len(split_sentence)):\n",
    "    print(split_sentence[i], len(split_sentence[i]))"
   ]
  },
  {
   "cell_type": "code",
   "execution_count": null,
   "id": "48421f26",
   "metadata": {},
   "outputs": [],
   "source": [
    "'''\n",
    "Bài 11: Nhập vào một chuỗi có 2 số nguyên, mỗi số cách nhau một dấu phẩy, hãy tính tổng của hai số đó\n",
    "\n",
    "Ví dụ:\n",
    "\n",
    "Nhập: 2,3 In: 5\n",
    "'''"
   ]
  },
  {
   "cell_type": "code",
   "execution_count": 55,
   "id": "6daa1411",
   "metadata": {
    "scrolled": true
   },
   "outputs": [
    {
     "name": "stdout",
     "output_type": "stream",
     "text": [
      "enter a string of number: 2,3\n",
      "Tổng 2 số 2,3 là 5\n"
     ]
    }
   ],
   "source": [
    "n_str = input(\"enter a string of number: \")\n",
    "total = 0\n",
    "\n",
    "for i in range(0, len(n_str)):\n",
    "    a = n_str[i]\n",
    "    if a == \",\":\n",
    "        a = 0\n",
    "    a = int(a)    \n",
    "    total += a\n",
    "print(f\"Tổng 2 số {n_str} là {total}\")"
   ]
  },
  {
   "cell_type": "code",
   "execution_count": 73,
   "id": "f918b59f",
   "metadata": {},
   "outputs": [
    {
     "name": "stdout",
     "output_type": "stream",
     "text": [
      "Please input 2 int separated by a comma: 2,3\n",
      "5\n"
     ]
    }
   ],
   "source": [
    "sentence = input('Please input 2 int separated by a comma: ')\n",
    "split_sentence = sentence.split(\",\")\n",
    "sum_int = 0\n",
    "\n",
    "for i in range (0, 2):\n",
    "    sum_int+=int(split_sentence[i])\n",
    "\n",
    "print(sum_int)\n",
    "    "
   ]
  },
  {
   "cell_type": "code",
   "execution_count": null,
   "id": "d878c81a",
   "metadata": {},
   "outputs": [],
   "source": [
    "'''\n",
    "Bài 12: Nhập vào một chuỗi, hãy cho biết trong chuỗi đó có bao nhiêu chữ số chẵn.\n",
    "'''"
   ]
  },
  {
   "cell_type": "code",
   "execution_count": 79,
   "id": "f3184f46",
   "metadata": {},
   "outputs": [
    {
     "name": "stdout",
     "output_type": "stream",
     "text": [
      "Please input a string of number: 123456\n",
      "the string has 3 even number\n"
     ]
    }
   ],
   "source": [
    "sentence = input(\"Please input a string of number: \")\n",
    "count = 0\n",
    "\n",
    "for i in range (0, len(sentence)):\n",
    "    if int(sentence[i]) % 2 == 0:\n",
    "        count += 1\n",
    "    \n",
    "print(f\"the string has {count} even number\")\n",
    "    "
   ]
  },
  {
   "cell_type": "code",
   "execution_count": null,
   "id": "86ef2a9a",
   "metadata": {},
   "outputs": [],
   "source": [
    "'''\n",
    "Bài 13: Cần có tổng 200.000đ từ 3 loại giấy bạc 1000đ, 2000đ, và 5000đ. Lập \n",
    "chương tình để tìm tất cả các phương án có thể.\n",
    "'''"
   ]
  },
  {
   "cell_type": "code",
   "execution_count": null,
   "id": "469e68f9",
   "metadata": {},
   "outputs": [],
   "source": [
    "# số lượng tờ 5000đ cần là 0 -> 40\n",
    "# số lượng tờ 2000đ cần là 0 -> 100\n",
    "# số lượng tờ 1000đ cần là 0 -> 200\n",
    "# cach 1\n",
    "count = 0  # đếm số đáp án có được\n",
    "total_loop = 0  # đếm tổng số lần lặp\n",
    "\n",
    "for i in range(41):  # tạo ra tổ hợp số lượng các tờ 5000 khác nhau\n",
    "    for j in range(101):  # số lượng tờ 2000\n",
    "        for k in range(201):  # số lượng tờ 1000\n",
    "            total_loop += 1  # có thêm 1 trường hợp kiểm tra\n",
    "            \n",
    "            if i * 5000 + j * 2000 + k * 1000 == 200000:\n",
    "                count += 1  # có thêm 1 đáp án đúng\n",
    "                print(f\"Cần {i} tờ 5000, {j} tờ 2000, {k} tờ 1000.\")\n",
    "    \n",
    "print(f\"Lặp {total_loop} lần, tìm ra được {count} cách.\")"
   ]
  },
  {
   "cell_type": "code",
   "execution_count": null,
   "id": "1f75570f",
   "metadata": {},
   "outputs": [],
   "source": [
    "'''\n",
    "Bài 14: Nhập vào một chuỗi s chỉ chứa các ký tự '(', ')', '{', '}', '[' và ']', \n",
    "xác định xem chuỗi s có hợp lệ hay không.\n",
    "\n",
    "Chuỗi đầu vào hợp lệ nếu:\n",
    "\n",
    "- Các dấu ngoặc mở phải được đóng bằng cùng một loại dấu ngoặc.\n",
    "- Dấu ngoặc mở phải được đóng theo đúng thứ tự.\n",
    "- Mọi dấu ngoặc đóng đều có một dấu ngoặc mở tương ứng cùng loại.\n",
    "\n",
    "Ví dụ 1:\n",
    "Input: s = \"()\"\n",
    "Output: True\n",
    "\n",
    "Ví dụ 2:\n",
    "Input: s = \"() [] {}\"\n",
    "Output: True\n",
    "\n",
    "Ví dụ 3:\n",
    "Input: s = \"(]\"\n",
    "Output: False\n",
    "'''"
   ]
  },
  {
   "cell_type": "code",
   "execution_count": 80,
   "id": "fe4835ad",
   "metadata": {},
   "outputs": [
    {
     "name": "stdout",
     "output_type": "stream",
     "text": [
      "True\n"
     ]
    }
   ],
   "source": [
    "string = '([{()[{}]}])'\n",
    "check = ''\n",
    "for c in string:\n",
    "    # nếu c là ký tự mở ngoặc\n",
    "    if c in '([{':\n",
    "        check += c  # lưu lại ký tự mở ngoặc\n",
    "    else:  # c là ký tự đóng ngoặc\n",
    "        if (check[-1] == '(' and c == ')') or (check[-1] == '[' and c == ']') or (check[-1] == '{' and c == '}'):\n",
    "            check = check[:-1]  # bỏ đi ký tự mở ngoặc cuối cùng do đã kiểm tra xong\n",
    "        else:\n",
    "            print(False)\n",
    "            break\n",
    "            \n",
    "if len(check) == 0:\n",
    "    print(True)"
   ]
  },
  {
   "cell_type": "code",
   "execution_count": null,
   "id": "1cc7ea23",
   "metadata": {},
   "outputs": [],
   "source": [
    "'''\n",
    "Bài 15: Roman to Integer\n",
    "Chữ số La Mã được thể hiện bằng bảy ký hiệu khác nhau: I, V, X, L, C, D và M.\n",
    "\n",
    "Symbol       Value\n",
    "I             1\n",
    "V             5\n",
    "X             10\n",
    "L             50\n",
    "C             100\n",
    "D             500\n",
    "M             1000\n",
    "\n",
    "Ví dụ: 2 được viết là II bằng số La Mã, chỉ là hai cái được cộng lại với nhau. \n",
    "12 được viết là XII, đơn giản là X + II. Con số 27 được viết là XXVII, là XX + V + II.\n",
    "\n",
    "Chữ số La mã thường được viết từ lớn nhất đến nhỏ nhất từ trái sang phải. \n",
    "Tuy nhiên, chữ số cho bốn không phải là IIII. Thay vào đó, số bốn được viết là IV. \n",
    "Bởi vì cái đứng trước năm, chúng ta trừ nó ra làm bốn. Nguyên tắc tương tự cũng áp dụng cho số chín, \n",
    "được viết là IX. Có sáu trường hợp phép trừ được sử dụng:\n",
    "\n",
    "I có thể được đặt trước V (5) và X (10) để tạo thành 4 và 9.\n",
    "X có thể được đặt trước L (50) và C (100) để tạo ra 40 và 90.\n",
    "C có thể được đặt trước D (500) và M (1000) để tạo thành 400 và 900.\n",
    "Nhập vào một chuỗi đại diện cho một số La Mã, hãy chuyển nó thành một số nguyên.\n",
    "\n",
    "Ví dụ 1:\n",
    "Input: s = \"III\"\n",
    "Output: 3\n",
    "Explanation: III = 3.\n",
    "\n",
    "Ví dụ 2:\n",
    "Input: s = \"LVIII\"\n",
    "Output: 58\n",
    "Explanation: L = 50, V= 5, III = 3.\n",
    "\n",
    "Ví dụ 3:\n",
    "Input: s = \"MCMXCIV\"\n",
    "Output: 1994\n",
    "Explanation: M = 1000, CM = 900, XC = 90 and IV = 4.\n",
    "'''"
   ]
  },
  {
   "cell_type": "code",
   "execution_count": null,
   "id": "f0088dbf",
   "metadata": {},
   "outputs": [],
   "source": [
    "s = input(\"Please input a Roman number: \")\n",
    "\n",
    "I = 1\n",
    "V = 5\n",
    "X = 10\n",
    "L = 50\n",
    "C = 100\n",
    "D = 500\n",
    "M = 1000\n",
    "\n",
    "i = 0\n",
    "total = 0\n",
    "while i < len(s) - 1:\n",
    "    current_char = s[i]\n",
    "    next_char = s[i + 1]\n",
    "    \n",
    "    # Get value of current character\n",
    "    if current_char == 'I':\n",
    "        current_value = I\n",
    "    elif current_char == 'V':\n",
    "        current_value = V\n",
    "    elif current_char == 'X':\n",
    "        current_value = X\n",
    "    elif current_char == 'L':\n",
    "        current_value = L\n",
    "    elif current_char == 'C':\n",
    "        current_value = C\n",
    "    elif current_char == 'D':\n",
    "        current_value = D\n",
    "    elif current_char == 'M':\n",
    "        current_value = M\n",
    "        \n",
    "    # Get value of next character\n",
    "    if next_char == 'I':\n",
    "        next_value = I\n",
    "    elif next_char == 'V':\n",
    "        next_value = V\n",
    "    elif next_char == 'X':\n",
    "        next_value = X\n",
    "    elif next_char == 'L':\n",
    "        next_value = L\n",
    "    elif next_char == 'C':\n",
    "        next_value = C\n",
    "    elif next_char == 'D':\n",
    "        next_value = D\n",
    "    elif next_char == 'M':\n",
    "        next_value = M\n",
    "        \n",
    "    if current_value >= next_value:\n",
    "        total += current_value\n",
    "        i += 1\n",
    "    else:\n",
    "        total += next_value - current_value\n",
    "        i += 2\n",
    "        \n",
    "# Check for last character\n",
    "if current_value >= next_value:\n",
    "    total += next_value\n",
    "    \n",
    "print(total)"
   ]
  },
  {
   "cell_type": "code",
   "execution_count": null,
   "id": "bfe2e17f",
   "metadata": {},
   "outputs": [],
   "source": [
    "'''\n",
    "Bonus: Vẽ xe lửa\n",
    "What is the size of your train? 1\n",
    " ______________________>__\n",
    "|]||[]_[]_[]|||[]_[]_[]||[|\n",
    "\\==o-o======o-o======o-o==/\n",
    "\n",
    "What is the size of your train? 2\n",
    " _________________________   ______________________>__\n",
    "|]||[]_[]_[]|||[]_[]_[]||[| |]||[]_[]_[]|||[]_[]_[]||[|\n",
    "\\==o-o======o-o======o-o==/_\\==o-o======o-o======o-o==/\n",
    "'''"
   ]
  },
  {
   "cell_type": "code",
   "execution_count": null,
   "id": "2c7d3447",
   "metadata": {},
   "outputs": [],
   "source": [
    "size = int(input(\"What is the size of your train? \"))\n",
    "print(\" _________________________  \" * (size - 1) + \" ______________________>__\")\n",
    "print(\"|]||[]_[]_[]|||[]_[]_[]||[| \" * (size - 1) + \"|]||[]_[]_[]|||[]_[]_[]||[|\")\n",
    "print(\"\\==o-o======o-o======o-o==/_\" * (size - 1) + \"\\==o-o======o-o======o-o==/\")"
   ]
  }
 ],
 "metadata": {
  "kernelspec": {
   "display_name": "Python 3 (ipykernel)",
   "language": "python",
   "name": "python3"
  },
  "language_info": {
   "codemirror_mode": {
    "name": "ipython",
    "version": 3
   },
   "file_extension": ".py",
   "mimetype": "text/x-python",
   "name": "python",
   "nbconvert_exporter": "python",
   "pygments_lexer": "ipython3",
   "version": "3.11.3"
  }
 },
 "nbformat": 4,
 "nbformat_minor": 5
}
