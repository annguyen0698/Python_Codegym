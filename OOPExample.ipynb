{
 "cells": [
  {
   "cell_type": "code",
   "execution_count": 7,
   "id": "707e9e41",
   "metadata": {},
   "outputs": [],
   "source": [
    "class Student:\n",
    "#     #Khai báo thuộc tính của lớp\n",
    "#     name = \"Win\"\n",
    "#     gender = False\n",
    "#     age = 32\n",
    "#     hometown = 'Hà Nội'\n",
    "#     #Kết thúc liệt kê thuộc tính của lớp\n",
    "    \n",
    "    #Hàm khởi tạo của lớp\n",
    "    def __init__(self, name, gender, age, hometown):\n",
    "        \"\"\"Hàm khởi tạo của lớp dùng để khởi tạo các giá trị của các thuộc tính\"\"\"\n",
    "        self.name = name\n",
    "        self.gender = gender\n",
    "        self.age = age\n",
    "        self.hometown = hometown\n",
    "        \n",
    "#     #Phương thức của lớp\n",
    "#     def inputInfo(self):\n",
    "#         self.name= input(\"Nhập tên: \")\n",
    "#         self.gender = input(\"Nhập giới tính(0/1): \")\n",
    "#         self.age = input(\"Nhập tuổi: \")\n",
    "#         self.hometown = input(\"Nhập quê quán: \")\n",
    "        \n",
    "    def showInfo(self):\n",
    "        print(\"Họ và tên: \", self.name)\n",
    "        print(\"Giới tính: \", \"Nữ\" if not self.gender else \"Nam\")\n",
    "        print(\"Tuổi: \", self.age)\n",
    "        print(\"Quê quán: \", self.hometown)\n",
    "        \n",
    "    def study(self):\n",
    "        print(\"Học bài và làm bài tập về nhà...\")\n",
    "        \n",
    "    def play(self):\n",
    "        print(\"Chơi và giải trí...\""
   ]
  },
  {
   "cell_type": "code",
   "execution_count": 8,
   "id": "9e9d882b",
   "metadata": {
    "scrolled": true
   },
   "outputs": [
    {
     "name": "stdout",
     "output_type": "stream",
     "text": [
      "Họ và tên:  Kaylynne\n",
      "Giới tính:  Nam\n",
      "Tuổi:  25\n",
      "Quê quán:  Sài Gòn\n"
     ]
    }
   ],
   "source": [
    "student1 = Student(\"Kaylynne\",1,25,\"Sài Gòn\")\n",
    "student1.showInfo()"
   ]
  },
  {
   "cell_type": "code",
   "execution_count": 6,
   "id": "9e6da1c0",
   "metadata": {},
   "outputs": [
    {
     "name": "stdout",
     "output_type": "stream",
     "text": [
      "Học bài và làm bài tập về nhà...\n"
     ]
    }
   ],
   "source": [
    "student1.study()"
   ]
  },
  {
   "cell_type": "code",
   "execution_count": 7,
   "id": "f61a4ac1",
   "metadata": {
    "scrolled": true
   },
   "outputs": [
    {
     "name": "stdout",
     "output_type": "stream",
     "text": [
      "Chơi và giải trí...\n"
     ]
    }
   ],
   "source": [
    "student1.play()"
   ]
  },
  {
   "cell_type": "code",
   "execution_count": 14,
   "id": "b2c2ca57",
   "metadata": {
    "scrolled": true
   },
   "outputs": [
    {
     "name": "stdout",
     "output_type": "stream",
     "text": [
      "Họ và tên:  Win\n",
      "Giới tính:  Nữ\n",
      "Tuổi:  32\n",
      "Quê quán:  Hà Nội\n",
      "Họ và tên:  Nguyễn Văn Bình\n",
      "Giới tính:  Nam\n",
      "Tuổi:  32\n",
      "Quê quán:  Hà Nội\n"
     ]
    }
   ],
   "source": [
    "student2 = Student()\n",
    "student2.showInfo()\n",
    "student2.name = \"Nguyễn Văn Bình\"\n",
    "student2.gender = True\n",
    "age = 18\n",
    "hometown = \"Ninh Bình\"\n",
    "student2.showInfo()"
   ]
  },
  {
   "cell_type": "code",
   "execution_count": 3,
   "id": "4f8cb425",
   "metadata": {
    "scrolled": true
   },
   "outputs": [
    {
     "name": "stdout",
     "output_type": "stream",
     "text": [
      "Nhập tên: Nguyễn An\n",
      "Nhập giới tính(0/1): 0\n",
      "Nhập tuổi: 25\n",
      "Nhập quê quán: Hồ Chí Minh\n",
      "Họ và tên:  Nguyễn An\n",
      "Giới tính:  Nam\n",
      "Tuổi:  25\n",
      "Quê quán:  Hồ Chí Minh\n"
     ]
    }
   ],
   "source": [
    "student3 = Student()\n",
    "student3.inputInfo()\n",
    "student3.showInfo()"
   ]
  },
  {
   "cell_type": "code",
   "execution_count": null,
   "id": "9a05c9db",
   "metadata": {},
   "outputs": [],
   "source": []
  },
  {
   "cell_type": "markdown",
   "id": "41a7e634",
   "metadata": {},
   "source": [
    "Định nghĩa lớp tam giác gồm 3 cạnh a,b,c. Phương thức kiểm tra a,b,c có phải ba cạnh của tam giác hay không? Tính chu vi diện tính"
   ]
  },
  {
   "cell_type": "code",
   "execution_count": 12,
   "id": "7fc8c753",
   "metadata": {},
   "outputs": [
    {
     "name": "stdout",
     "output_type": "stream",
     "text": [
      "True\n",
      "12\n",
      "6.0\n"
     ]
    }
   ],
   "source": [
    "class Triangle:\n",
    "\n",
    "    def __init__(self, a, b, c):\n",
    "        self.a = a\n",
    "        self.b = b\n",
    "        self.c = c\n",
    "\n",
    "    def is_valid(self):\n",
    "        if (self.a + self.b > self.c) and (self.a + self.c > self.b) and (self.b + self.c > self.a):\n",
    "            return True\n",
    "        else:\n",
    "            return False\n",
    "        \n",
    "    def chu_vi(self):\n",
    "        if self.is_valid():\n",
    "            return self.a + self.b + self.c\n",
    "        else:\n",
    "            return None\n",
    "\n",
    "    def dien_tich(self):\n",
    "        if self.is_valid():\n",
    "            p = self.chu_vi() / 2\n",
    "            return (p * (p - self.a) * (p - self.b) * (p - self.c)) ** 0.5\n",
    "        else: \n",
    "            return None\n",
    "    def show(self):\n",
    "        print(f\"({self.a},{self.b},{self.c})\")\n",
    "t = Triangle(3, 4, 5)\n",
    "print(t.is_valid())\n",
    "print(t.chu_vi())\n",
    "print(t.dien_tich())"
   ]
  },
  {
   "cell_type": "code",
   "execution_count": 2,
   "id": "a7902d74",
   "metadata": {},
   "outputs": [],
   "source": [
    "# Triangle1 = Triangle(3,14,5)\n",
    "# Triangle1.is_valid()\n",
    "# Triangle1.chu_vi()\n",
    "# Triangle1.dien_tich()"
   ]
  },
  {
   "cell_type": "markdown",
   "id": "8d9af3d0",
   "metadata": {},
   "source": [
    "Sinh ra ngẫu nhiên 100 tam giác. Tìm tam giác có diện tích, chu vi lớn nhất "
   ]
  },
  {
   "cell_type": "code",
   "execution_count": 11,
   "id": "31260f85",
   "metadata": {},
   "outputs": [
    {
     "name": "stdout",
     "output_type": "stream",
     "text": [
      "(42,72,83)\n",
      "(66,19,69)\n",
      "(90,51,89)\n",
      "(38,39,55)\n",
      "(17,29,37)\n",
      "(38,69,81)\n",
      "(76,95,26)\n",
      "(92,73,28)\n",
      "(80,24,61)\n",
      "(8,89,89)\n",
      "(51,55,28)\n",
      "(46,68,64)\n",
      "(69,57,16)\n",
      "(70,45,32)\n",
      "(41,47,49)\n",
      "(41,69,57)\n",
      "(86,85,62)\n",
      "(34,20,46)\n",
      "(81,87,28)\n",
      "(56,88,98)\n",
      "(100,77,44)\n",
      "(77,51,72)\n",
      "(95,96,91)\n",
      "(24,94,90)\n",
      "(13,47,45)\n",
      "(90,95,30)\n",
      "(42,55,33)\n",
      "(18,88,91)\n",
      "(51,52,100)\n",
      "(37,83,54)\n",
      "(39,55,22)\n",
      "(15,79,70)\n",
      "(76,96,73)\n",
      "(27,99,91)\n",
      "(61,24,82)\n",
      "(67,71,96)\n",
      "(82,37,76)\n",
      "(74,72,66)\n",
      "(58,90,96)\n",
      "(87,84,35)\n",
      "(57,55,8)\n",
      "(52,11,45)\n",
      "(87,54,97)\n",
      "(95,71,74)\n",
      "(26,35,45)\n",
      "(91,65,63)\n",
      "(78,8,77)\n",
      "(22,95,95)\n",
      "(62,49,24)\n",
      "(6,27,26)\n",
      "(46,33,16)\n",
      "(46,26,52)\n",
      "(65,90,41)\n",
      "(46,45,33)\n",
      "(67,46,93)\n",
      "(86,71,76)\n",
      "(42,87,64)\n",
      "(51,77,100)\n",
      "(54,53,51)\n",
      "(99,80,30)\n",
      "(94,67,93)\n",
      "(38,68,92)\n",
      "(41,34,39)\n",
      "(46,17,58)\n",
      "(75,55,22)\n",
      "(61,28,64)\n",
      "(87,70,44)\n",
      "(52,63,64)\n",
      "(29,82,96)\n",
      "(81,52,74)\n",
      "(34,48,58)\n",
      "(16,70,85)\n",
      "(92,85,86)\n",
      "(69,91,93)\n",
      "(69,21,65)\n",
      "(7,59,60)\n",
      "(41,62,25)\n",
      "(24,54,64)\n",
      "(74,25,59)\n",
      "(32,33,8)\n",
      "(88,69,28)\n",
      "(96,91,98)\n",
      "(70,38,88)\n",
      "(61,22,81)\n",
      "(54,76,89)\n",
      "(48,88,71)\n",
      "(45,44,32)\n",
      "(73,13,66)\n",
      "(59,34,86)\n",
      "(99,75,70)\n",
      "(9,77,84)\n",
      "(94,43,73)\n",
      "(39,26,27)\n",
      "(35,54,56)\n",
      "(60,59,100)\n",
      "(76,59,55)\n",
      "(52,24,75)\n",
      "(60,94,74)\n",
      "(47,59,55)\n",
      "(78,47,85)\n",
      "(58,95,78)\n"
     ]
    }
   ],
   "source": [
    "import random\n",
    "mylist = []\n",
    "while count<=100:\n",
    "    a = random.randint(1,100)\n",
    "    b = random.randint(1,100)\n",
    "    c = random.randint(1,100)\n",
    "    tg = Triangle(a,b,c)\n",
    "    if tg.is_valid():\n",
    "        mylist.append(tg)\n",
    "        count+=1\n",
    "\n",
    "_count = 0     \n",
    "for i in mylist:\n",
    "    i.show()"
   ]
  }
 ],
 "metadata": {
  "kernelspec": {
   "display_name": "Python 3 (ipykernel)",
   "language": "python",
   "name": "python3"
  },
  "language_info": {
   "codemirror_mode": {
    "name": "ipython",
    "version": 3
   },
   "file_extension": ".py",
   "mimetype": "text/x-python",
   "name": "python",
   "nbconvert_exporter": "python",
   "pygments_lexer": "ipython3",
   "version": "3.11.3"
  }
 },
 "nbformat": 4,
 "nbformat_minor": 5
}
