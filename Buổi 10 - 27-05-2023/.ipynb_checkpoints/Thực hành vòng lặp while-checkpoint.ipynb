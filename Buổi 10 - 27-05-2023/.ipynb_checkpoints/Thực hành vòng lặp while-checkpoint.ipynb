{
 "cells": [
  {
   "cell_type": "code",
   "execution_count": null,
   "id": "272a3a95",
   "metadata": {},
   "outputs": [],
   "source": [
    "'''\n",
    "Khởi động 1: Viết chương trình in ra tất cả các số chia hết cho cả 5 và 7 trong khoảng từ 1500 đến 2700\n",
    "'''"
   ]
  },
  {
   "cell_type": "code",
   "execution_count": 17,
   "id": "18dbe371",
   "metadata": {},
   "outputs": [
    {
     "name": "stdout",
     "output_type": "stream",
     "text": [
      "1505\n",
      "1540\n",
      "1575\n",
      "1610\n",
      "1645\n",
      "1680\n",
      "1715\n",
      "1750\n",
      "1785\n",
      "1820\n",
      "1855\n",
      "1890\n",
      "1925\n",
      "1960\n",
      "1995\n",
      "2030\n",
      "2065\n",
      "2100\n",
      "2135\n",
      "2170\n",
      "2205\n",
      "2240\n",
      "2275\n",
      "2310\n",
      "2345\n",
      "2380\n",
      "2415\n",
      "2450\n",
      "2485\n",
      "2520\n",
      "2555\n",
      "2590\n",
      "2625\n",
      "2660\n",
      "2695\n"
     ]
    }
   ],
   "source": [
    "start = 1500\n",
    "end = 2700\n",
    "\n",
    "while start <= end:\n",
    "  if start % 5 == 0 and start % 7 == 0:\n",
    "    print(start)\n",
    "  start += 1"
   ]
  },
  {
   "cell_type": "code",
   "execution_count": null,
   "id": "87f74c6c",
   "metadata": {},
   "outputs": [],
   "source": [
    "'''\n",
    "Bài 1: Viết chương trình nhập vào chiều cao tam giác vuông và in ra tam giác có hình dạng như sau:\n",
    "*****\n",
    "****\n",
    "***\n",
    "** \n",
    "*\n",
    "'''"
   ]
  },
  {
   "cell_type": "code",
   "execution_count": 6,
   "id": "46bdc25c",
   "metadata": {
    "scrolled": false
   },
   "outputs": [
    {
     "name": "stdout",
     "output_type": "stream",
     "text": [
      "please input the height of the triangle: 5\n",
      "*****\n",
      "****\n",
      "***\n",
      "**\n",
      "*\n"
     ]
    }
   ],
   "source": [
    "number_rows = int(input(\"please input the height of the triangle: \"))\n",
    "\n",
    "row = number_rows\n",
    "while row >= 1:\n",
    "    print(\"*\" * row)\n",
    "    row -= 1"
   ]
  },
  {
   "cell_type": "code",
   "execution_count": 8,
   "id": "bd773d1a",
   "metadata": {},
   "outputs": [
    {
     "name": "stdout",
     "output_type": "stream",
     "text": [
      "please input the height of the triangle: 5\n",
      "*****\n",
      "****\n",
      "***\n",
      "**\n",
      "*\n"
     ]
    }
   ],
   "source": [
    "number_rows = int(input(\"please input the height of the triangle: \"))\n",
    "\n",
    "while number_rows >= 1:\n",
    "    print(\"*\" * number_rows)\n",
    "    number_rows -= 1"
   ]
  },
  {
   "cell_type": "code",
   "execution_count": null,
   "id": "ea4c14a8",
   "metadata": {},
   "outputs": [],
   "source": [
    "'''\n",
    "Bài 2: Viết chương trình nhập vào chiều cao tam giác vuông và in ra tam giác có hình dạng như sau:\n",
    "* * * * * *\n",
    "* * * * *\n",
    "* * * *\n",
    "* * *\n",
    "* *\n",
    "*\n",
    "'''"
   ]
  },
  {
   "cell_type": "code",
   "execution_count": 9,
   "id": "4398057f",
   "metadata": {
    "scrolled": true
   },
   "outputs": [
    {
     "name": "stdout",
     "output_type": "stream",
     "text": [
      "please input the height of the triangle: 5\n",
      "* * * * *\n",
      "* * * *\n",
      "* * *\n",
      "* *\n",
      "*\n"
     ]
    }
   ],
   "source": [
    "number_rows = int(input(\"please input the height of the triangle: \"))\n",
    "\n",
    "row = number_rows\n",
    "while row >= 1:\n",
    "    print(\" \".join([\"*\"] * row))\n",
    "    row -= 1"
   ]
  },
  {
   "cell_type": "code",
   "execution_count": 10,
   "id": "74d3f297",
   "metadata": {},
   "outputs": [
    {
     "name": "stdout",
     "output_type": "stream",
     "text": [
      "please input the height of the triangle: 5\n",
      "* * * * * \n",
      "* * * * \n",
      "* * * \n",
      "* * \n",
      "* \n"
     ]
    }
   ],
   "source": [
    "number_rows = int(input(\"please input the height of the triangle: \"))\n",
    "\n",
    "row = 1\n",
    "while number_rows >= row:\n",
    "    print((number_rows) * \"* \")\n",
    "    number_rows -= 1"
   ]
  },
  {
   "cell_type": "code",
   "execution_count": null,
   "id": "bd17e085",
   "metadata": {},
   "outputs": [],
   "source": [
    "'''\n",
    "Bài 3: Viết chương trình nhập vào chiều cao tam giác vuông và in ra tam giác có hình dạng như sau:\n",
    "* - * - *\n",
    "* - * -\n",
    "* - *\n",
    "* -\n",
    "*\n",
    "'''"
   ]
  },
  {
   "cell_type": "code",
   "execution_count": 14,
   "id": "ef77af7f",
   "metadata": {},
   "outputs": [
    {
     "name": "stdout",
     "output_type": "stream",
     "text": [
      "Please input the height of the triangle: 5\n",
      "* - * - * \n",
      "* - * - \n",
      "* - * \n",
      "* - \n",
      "* \n"
     ]
    }
   ],
   "source": [
    "number_rows = int(input(\"Please input the height of the triangle: \"))\n",
    "\n",
    "for i in range(number_rows, 0, -1):\n",
    "  # print(\"i:\", i)\n",
    "  for j in range(0, i, 1):\n",
    "    if j % 2 != 0:\n",
    "      print('-', end=\" \")    \n",
    "    else:\n",
    "      print('*', end=\" \")\n",
    "  print()"
   ]
  },
  {
   "cell_type": "code",
   "execution_count": 15,
   "id": "145c0a2c",
   "metadata": {},
   "outputs": [
    {
     "name": "stdout",
     "output_type": "stream",
     "text": [
      "Please input the height of the triangle: 5\n",
      "* - * - * \n",
      "* - * - \n",
      "* - * \n",
      "* - \n",
      "* \n"
     ]
    }
   ],
   "source": [
    "number_rows = int(input(\"Please input the height of the triangle: \"))\n",
    "\n",
    "i = number_rows\n",
    "while i > 0:\n",
    "  j = 0\n",
    "  while j < i:\n",
    "    if j % 2 != 0:\n",
    "      print('-', end=\" \")    \n",
    "    else:\n",
    "      print('*', end=\" \")\n",
    "    j += 1\n",
    "  print()\n",
    "  i -= 1"
   ]
  },
  {
   "cell_type": "code",
   "execution_count": null,
   "id": "28d13031",
   "metadata": {},
   "outputs": [],
   "source": [
    "number_rows = int(input(\"Please input the height of the triangle: \"))\n",
    "\n",
    "# for i in range(number_rows, 0, -1):\n",
    "while number_rows >= 1:\n",
    "  count = 1\n",
    "  while count <= number_rows:\n",
    "    if count % 2 != 0:\n",
    "      print('*', end=\" \")    \n",
    "    else:\n",
    "      print('-', end=\" \")\n",
    "    count += 1\n",
    "\n",
    "  number_rows -= 1\n",
    "  print()"
   ]
  },
  {
   "cell_type": "code",
   "execution_count": null,
   "id": "105b66bc",
   "metadata": {},
   "outputs": [],
   "source": [
    "'''\n",
    "Bài 4: Viết chương trình nhập vào một số nguyên n và in ra các số từ 1 đến n với các trường hợp ngoại lệ như sau:\n",
    "- Nếu số đó chia hết cho 3 thì in \"py\"\n",
    "- Nếu số đó chia hết cho 7 thì in \"thon\"\n",
    "- Nếu số đó chia hết cho cả 3 và 4 thì in \"python\"\n",
    "\n",
    "Ví dụ: n = 25\n",
    "1\n",
    "2\n",
    "py\n",
    "4\n",
    "5\n",
    "py\n",
    "thon\n",
    "8\n",
    "py\n",
    "10\n",
    "11\n",
    "py\n",
    "13\n",
    "thon\n",
    "py\n",
    "16\n",
    "17\n",
    "py\n",
    "19\n",
    "20\n",
    "python\n",
    "22\n",
    "23\n",
    "py\n",
    "25\n",
    "'''"
   ]
  },
  {
   "cell_type": "code",
   "execution_count": 11,
   "id": "3e8eb07e",
   "metadata": {},
   "outputs": [
    {
     "name": "stdout",
     "output_type": "stream",
     "text": [
      "input an integer: 25\n",
      "1\n",
      "2\n",
      "py\n",
      "4\n",
      "5\n",
      "py\n",
      "thon\n",
      "8\n",
      "py\n",
      "10\n",
      "11\n",
      "py\n",
      "13\n",
      "thon\n",
      "py\n",
      "16\n",
      "17\n",
      "py\n",
      "19\n",
      "20\n",
      "py\n",
      "22\n",
      "23\n",
      "py\n",
      "25\n"
     ]
    }
   ],
   "source": [
    "n = int(input(\"input an integer: \"))\n",
    "\n",
    "for i in range(1, n + 1):\n",
    "\n",
    "    if i % 3 == 0:\n",
    "        print(\"py\")\n",
    "\n",
    "    elif i % 7 == 0:\n",
    "        print(\"thon\")\n",
    "\n",
    "    elif i % 3 == 0 and i % 7 == 0:\n",
    "        print(\"python\")\n",
    "\n",
    "    else:\n",
    "        print(i)"
   ]
  },
  {
   "cell_type": "code",
   "execution_count": null,
   "id": "3689744c",
   "metadata": {},
   "outputs": [],
   "source": [
    "'''\n",
    "Bài 5: Viết chương trình nhập vào một số và kiểm tra xem số đó có phải là số nguyên tố hay không\n",
    "Note: Số nguyên tố là số chỉ chia hết cho 1 và chính nó\n",
    "'''"
   ]
  },
  {
   "cell_type": "code",
   "execution_count": null,
   "id": "51ef22fa",
   "metadata": {},
   "outputs": [],
   "source": [
    "number = int(input(\"Enter a number: \"))\n",
    "\n",
    "if number > 1:\n",
    "\n",
    "    for i in range(2, int(number ** 0.5) + 1):\n",
    "        if number % i == 0:\n",
    "            print(number, \"is not a prime number\")\n",
    "            break\n",
    "    else:\n",
    "        print(number, \"is a prime number\")\n",
    "\n",
    "else:\n",
    "    print(number, \"is not a prime number\")"
   ]
  },
  {
   "cell_type": "code",
   "execution_count": null,
   "id": "75c28c17",
   "metadata": {},
   "outputs": [],
   "source": [
    "number = int(input(\"Enter a number: \"))\n",
    "\n",
    "if number > 1:\n",
    "    is_prime = True\n",
    "    i = 2\n",
    "    while i <= int(number ** 0.5):\n",
    "        if number % i == 0:\n",
    "            is_prime = False\n",
    "            break\n",
    "        i += 1\n",
    "\n",
    "    if is_prime:\n",
    "        print(number, \"is a prime number\")\n",
    "    else:\n",
    "        print(number, \"is not a prime number\")\n",
    "\n",
    "else:\n",
    "    print(number, \"is not a prime number\")"
   ]
  },
  {
   "cell_type": "code",
   "execution_count": 16,
   "id": "44f1fe6d",
   "metadata": {},
   "outputs": [
    {
     "name": "stdout",
     "output_type": "stream",
     "text": [
      "Enter a number: 11\n",
      "11 is a prime number.\n"
     ]
    }
   ],
   "source": [
    "def isPrime(num):\n",
    "  for i in range(2, num):\n",
    "    if (num % i) == 0:\n",
    "      return False\n",
    "  return True\n",
    "\n",
    "num = int(input(\"Enter a number: \"))\n",
    "\n",
    "if num == 1:\n",
    "  print(num, \"is a prime number.\")\n",
    "elif num > 1:\n",
    "  if isPrime(num):\n",
    "    print(num, \"is a prime number.\")\n",
    "  else:\n",
    "    print(num, \"is NOT PRIME!\")"
   ]
  },
  {
   "cell_type": "code",
   "execution_count": null,
   "id": "d76fa311",
   "metadata": {},
   "outputs": [],
   "source": [
    "'''\n",
    "Bài 6: Viết chương trình mô phỏng trò chơi kéo búa bao theo luật chơi như sau:\n",
    "Quy ước: 1 - búa, 2 - kéo, 3 - bao\n",
    "Khi trò chơi bắt đầu, yêu cầu người chơi nhập 1 số từ bàn phím đại diện cho kéo, búa, bao\n",
    "Chương trình tự random ra một lựa chọn từ 1 đến 3.\n",
    "Nếu người chơi thua thì tiếp tục chơi cho đến khi thắng thì kết thúc chương trình.\n",
    "Ví dụ:\n",
    "\n",
    "Mời lựa chọn(1 - búa, 2 - kéo, 3 - bao): 1\n",
    "Máy tính chọn: 3\n",
    "Người chơi thua.\n",
    "\n",
    "Mời lựa chọn(1 - búa, 2 - kéo, 3 - bao): 2\n",
    "Máy tính chọn: 1\n",
    "Người chơi thua.\n",
    "\n",
    "Mời lựa chọn(1 - búa, 2 - kéo, 3 - bao): 1\n",
    "Máy tính chọn: 2\n",
    "Người chơi thắng.\n",
    "'''"
   ]
  },
  {
   "cell_type": "code",
   "execution_count": 6,
   "id": "eddc7246",
   "metadata": {},
   "outputs": [
    {
     "name": "stdout",
     "output_type": "stream",
     "text": [
      "You choose (Bao, Bua, Keo):Bao\n",
      "Computer chooses :Bua\n",
      "----\n",
      "You Win\n"
     ]
    }
   ],
   "source": [
    "#bao-bua-keo\n",
    "from random import randint \n",
    "player = str(input(\"You choose (Bao, Bua, Keo):\"))\n",
    "player = player.strip()\n",
    "computer = randint (0,2)\n",
    "\n",
    "if computer == 0:    #comparison statement\n",
    "    computer = \"Bao\" #assignment statement\n",
    "elif computer == 1:\n",
    "    computer = \"Bua\"\n",
    "else :\n",
    "    computer = \"Keo\"\n",
    "print(\"Computer chooses :\"  + str(computer))\n",
    "print('----')\n",
    "#if computer == 0:\n",
    "   # computer = \"Bao\"\n",
    "#if computer ==1:\n",
    "\n",
    "   # computer = \"Bua\n",
    "#if computer ==2:\n",
    "   # computer = \"Keo\"\n",
    "if player == \"Keo\":\n",
    "    if computer == \"Keo\":\n",
    "        print(\"Draw\")\n",
    "    if computer == \"Bao\":\n",
    "        print(\"You Win\")\n",
    "    if computer == \"Bua\":\n",
    "        print(\"You Lose\")\n",
    "\n",
    "if player == \"Bao\":\n",
    "    if computer == \"Bao\":\n",
    "        print(\"Draw\")\n",
    "    if computer == \"Bua\":\n",
    "        print(\"You Win\")\n",
    "    if computer == \"Keo\":\n",
    "        print(\"You Lose\")\n",
    "\n",
    "if player == \"Bua\":\n",
    "    if computer == \"Bua\":\n",
    "        print(\"Draw\")\n",
    "    if computer == \"Keo\":\n",
    "        print(\"You Win\")\n",
    "    if computer == \"Bao\":\n",
    "        print(\"You Lose\")"
   ]
  },
  {
   "cell_type": "code",
   "execution_count": 8,
   "id": "a7c98719",
   "metadata": {},
   "outputs": [
    {
     "name": "stdout",
     "output_type": "stream",
     "text": [
      "You choose (Bao, Bua, Keo):bao\n",
      "Computer chooses :Keo\n",
      "You Lose\n",
      "Would you want to play again? (y/n) yes\n",
      "You choose (Bao, Bua, Keo):keo\n",
      "Computer chooses :Bua\n",
      "You Lose\n",
      "Would you want to play again? (y/n) n\n",
      "The game is finished, thanks for playing!\n"
     ]
    }
   ],
   "source": [
    "#bao_bua_keo cach thu 2:\n",
    "from random import randint\n",
    "\n",
    "play_again = True\n",
    "\n",
    "while play_again:\n",
    "    player = str(input(\"You choose (Bao, Bua, Keo):\").title())\n",
    "    player = player.strip()\n",
    "\n",
    "    computer = randint (0,2)\n",
    "    if computer == 0:  \n",
    "        computer = \"Bao\" \n",
    "    elif computer == 1:\n",
    "        computer = \"Bua\"\n",
    "    else :\n",
    "        computer = \"Keo\"\n",
    "    print(\"Computer chooses :\"  + str(computer))\n",
    "\n",
    "    if player == computer:\n",
    "        print('draw')\n",
    "\n",
    "    if player == \"Keo\":\n",
    "            if computer == \"Bao\":\n",
    "                print(\"You Win\")\n",
    "            else:\n",
    "                print(\"You Lose\")\n",
    "\n",
    "    elif player == \"Bao\":\n",
    "            if computer == \"Bua\":\n",
    "                print(\"You Win\")\n",
    "            else:\n",
    "                print(\"You Lose\")\n",
    "\n",
    "    elif player == \"Bua\":\n",
    "            if computer == \"Keo\":\n",
    "                print(\"You Win\")\n",
    "            else:\n",
    "                print(\"You Lose\")\n",
    "        \n",
    "    else:\n",
    "            print('Wrong input')\n",
    "\n",
    "    question = str(input(\"Would you want to play again? (y/n) \").title())\n",
    "    if question == 'Y':\n",
    "        play_again = True\n",
    "    elif question == 'N':\n",
    "        play_again = False\n",
    "    \n",
    "\n",
    "print(\"The game is finished, thanks for playing!\")\n"
   ]
  }
 ],
 "metadata": {
  "kernelspec": {
   "display_name": "Python 3 (ipykernel)",
   "language": "python",
   "name": "python3"
  },
  "language_info": {
   "codemirror_mode": {
    "name": "ipython",
    "version": 3
   },
   "file_extension": ".py",
   "mimetype": "text/x-python",
   "name": "python",
   "nbconvert_exporter": "python",
   "pygments_lexer": "ipython3",
   "version": "3.11.3"
  }
 },
 "nbformat": 4,
 "nbformat_minor": 5
}
