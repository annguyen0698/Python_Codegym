{
 "cells": [
  {
   "cell_type": "code",
   "execution_count": null,
   "id": "1b7705b3",
   "metadata": {},
   "outputs": [],
   "source": [
    "\"\"\"\n",
    "Viết class NhanVien gồm các thuộc tính:\n",
    "+ Tên\n",
    "+ Tuổi\n",
    "+ Địa chỉ\n",
    "+ Tiền lương\n",
    "+ Tổng số giờ làm\n",
    "\n",
    "Và các phương thức:\n",
    "- Phương thức tạo\n",
    "- tinh_thuong(): Tính toán và trả về số tiền thưởng của nhân viên theo công thức sau:\n",
    "Nếu tổng số giờ làm của nhân viên >=200 thì thưởng = lương * 20%\n",
    "Nếu tổng số giờ làm của nhân viên <200 và >=100 thì thưởng = lương * 10%\n",
    "Nếu tổng số giờ làm của nhân viên <100 thì thưởng = 0\n",
    "- print_info() : In ra tất cả các thông tin cá nhân và tiền thưởng của nhân viên\n",
    "\n",
    "Tiến hành tạo ra hai đối tượng NhanVien và in ra thông tin tương ứng\n",
    "\"\"\""
   ]
  },
  {
   "cell_type": "code",
   "execution_count": 38,
   "id": "3cf0f41d",
   "metadata": {
    "scrolled": true
   },
   "outputs": [
    {
     "name": "stdout",
     "output_type": "stream",
     "text": [
      "Staff 1 information:\n",
      "Name: An, Age: 25, Address: HCM, Salary: 2000, Work Hours: 160, Bonus: 200.0, Total Salary: 2200.0\n",
      "Staff 2 information:\n",
      "Name: Binh, Age: 30, Address: HN, Salary: 3000, Work Hours: 90, Bonus: 0, Total Salary: 3000\n"
     ]
    }
   ],
   "source": [
    "class Staff:\n",
    "\n",
    "    def __init__(self, name, age, address, salary, work_hours):\n",
    "        self.name = name\n",
    "        self.age = age\n",
    "        self.address = address\n",
    "        self.salary = salary\n",
    "        self.work_hours = work_hours\n",
    "\n",
    "    def bonus(self):\n",
    "        bonus = 0\n",
    "        if self.work_hours >= 200:\n",
    "            bonus = self.salary * 0.2\n",
    "        elif self.work_hours < 200 and self.work_hours >= 100:\n",
    "            bonus = self.salary * 0.1\n",
    "        return bonus\n",
    "\n",
    "    def total_salary(self):\n",
    "        return self.salary + self.bonus()\n",
    "\n",
    "    def print_info(self):\n",
    "        print(f\"Name: {self.name}, Age: {self.age}, Address: {self.address}, Salary: {self.salary}, \"\n",
    "              f\"Work Hours: {self.work_hours}, Bonus: {self.bonus()}, Total Salary: {self.total_salary()}\")\n",
    "\n",
    "\n",
    "staff_1 = Staff(\"An\", 25, \"HCM\", 2000, 160)\n",
    "staff_2 = Staff(\"Binh\", 30, \"HN\", 3000, 90)\n",
    "\n",
    "print(\"Staff 1 information:\")\n",
    "staff_1.print_info()\n",
    "\n",
    "print(\"Staff 2 information:\")\n",
    "staff_2.print_info()"
   ]
  }
 ],
 "metadata": {
  "kernelspec": {
   "display_name": "Python 3 (ipykernel)",
   "language": "python",
   "name": "python3"
  },
  "language_info": {
   "codemirror_mode": {
    "name": "ipython",
    "version": 3
   },
   "file_extension": ".py",
   "mimetype": "text/x-python",
   "name": "python",
   "nbconvert_exporter": "python",
   "pygments_lexer": "ipython3",
   "version": "3.11.3"
  }
 },
 "nbformat": 4,
 "nbformat_minor": 5
}
