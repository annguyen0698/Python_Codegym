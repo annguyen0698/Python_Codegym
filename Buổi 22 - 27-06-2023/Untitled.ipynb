{
 "cells": [
  {
   "cell_type": "code",
   "execution_count": 11,
   "id": "1460385f",
   "metadata": {},
   "outputs": [],
   "source": [
    "class Ingredient:\n",
    "    def __innit__(self, name, quantity):\n",
    "        self.name = name\n",
    "        self.quantity = quantity\n",
    "    def __str__(self):\n",
    "        return f\"Name: {self.name}, quantity: {self.quantity}\"\n",
    "\n",
    "from tkinter import *\n",
    "from tkinter import messagebox \n",
    "\n",
    "window = Tk()\n",
    "window.title(\"Ingredient Management System\")\n",
    "\n",
    "lbl_name = Label(window, text = \"Name: \")\n",
    "lbl_name.grid(row = 0, column = 0)\n",
    "lbl_quantity = Label(window, text = \"Quantity\")\n",
    "lbl_quantity.grid(row = 1, column = 0)\n",
    "\n",
    "name = Entry(window)\n",
    "name.grid(row = 0, column = 1)\n",
    "quantity = Entry(window)\n",
    "quantity.grid(row = 1, column = 1)\n",
    "search_name = Entry(window)\n",
    "search_name.grid(row = 3, column = 0)\n",
    "\n",
    "btn_add = Button(window, text = \"Add\")\n",
    "btn_add.grid(row=2, column=0)\n",
    "btn_delete = Button(window, text = \"Delete\")\n",
    "btn_delete.grid(row=2, column=1)\n",
    "btn_reset = Button(window, text = \"Reset\")\n",
    "btn_reset.grid(row=2, column=2)\n",
    "btn_search = Button(window, text = \"Search\")\n",
    "btn_search.grid(row=3, column=1)\n",
    "\n",
    "window.mainloop()"
   ]
  }
 ],
 "metadata": {
  "kernelspec": {
   "display_name": "Python 3 (ipykernel)",
   "language": "python",
   "name": "python3"
  },
  "language_info": {
   "codemirror_mode": {
    "name": "ipython",
    "version": 3
   },
   "file_extension": ".py",
   "mimetype": "text/x-python",
   "name": "python",
   "nbconvert_exporter": "python",
   "pygments_lexer": "ipython3",
   "version": "3.11.3"
  }
 },
 "nbformat": 4,
 "nbformat_minor": 5
}
