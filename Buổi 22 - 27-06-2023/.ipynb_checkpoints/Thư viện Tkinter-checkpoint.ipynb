{
 "cells": [
  {
   "cell_type": "markdown",
   "id": "7637b45d",
   "metadata": {},
   "source": [
    "# Tkinter"
   ]
  },
  {
   "cell_type": "markdown",
   "id": "aef48c70",
   "metadata": {},
   "source": [
    "## Tkinter là gì?\n",
    "Tkinter là thư viện GUI tiêu chuẩn cho Python."
   ]
  },
  {
   "cell_type": "markdown",
   "id": "a555c9c5",
   "metadata": {},
   "source": [
    "## Các bước tạo ứng dụng Tkinter\n",
    "**Bước 1:** Import Tkinter module\n",
    "\n",
    "**Bước 2:** Tạo ra cửa số chính cho ứng dụng \n",
    "\n",
    "**Bước 3:** Thêm một số widget cho ứng dụng\n",
    "\n",
    "**Bước 4:** Tạo vòng lặp sự kiện chính để các hành động có thể diễn ra trên màn hình máy tính của người dùng\n"
   ]
  },
  {
   "cell_type": "markdown",
   "id": "f5a0f4e8",
   "metadata": {},
   "source": [
    "## Import Tkinter \n",
    "\n",
    "Cú pháp:\n",
    "\n",
    "`from tkinter import *`\n",
    "\n",
    "<b> Thêm thư viện: </b>"
   ]
  },
  {
   "cell_type": "code",
   "execution_count": 1,
   "id": "28a5f795",
   "metadata": {},
   "outputs": [],
   "source": [
    "from tkinter import *"
   ]
  },
  {
   "cell_type": "markdown",
   "id": "27f1704a",
   "metadata": {},
   "source": [
    "## Tạo ra cửa số cho ứng dụng\n",
    "\n",
    "Cú pháp:\n",
    "\n",
    "`<tên đối tượng> = Tk()`\n",
    "\n",
    "Đổi tiêu đề cửa số:\n",
    "\n",
    "`<tên đối tượng>.title(\"Tiêu đề mới\")`\n",
    "\n",
    "##### Lưu ý: ta cần thêm hàm `<tên đối tượng>.mainloop()` để cửa sổ hoạt động\n",
    "\n",
    "<b>Hãy khởi tạo một cửa sổ:</b>"
   ]
  },
  {
   "cell_type": "code",
   "execution_count": 14,
   "id": "3063eaa3",
   "metadata": {
    "scrolled": true
   },
   "outputs": [],
   "source": [
    "from tkinter import *\n",
    "window = Tk()\n",
    "window.title(\"Login\")\n",
    "\n",
    "lbl_login = Label(window, text = \"LOGIN\")\n",
    "lbl_username = Label(window, text = \"Username\")\n",
    "lbl_password = Label(window, text = \"Password\")\n",
    "username = Entry(window)\n",
    "password = Entry(window)\n",
    "btn_login = Button(window, text=\"Login\")\n",
    "lbl_login.pack()\n",
    "lbl_username.pack()\n",
    "username.pack()\n",
    "lbl_password.pack()\n",
    "password.pack()\n",
    "btn_login.pack()\n",
    "window.mainloop()"
   ]
  },
  {
   "cell_type": "markdown",
   "id": "6a7f27d7",
   "metadata": {},
   "source": [
    "## Thêm widget cho ứng dụng\n",
    "\n",
    "\n",
    "Widget là những đối tượng sẽ hiển thị và hoạt động trên cửa số\n",
    "\n",
    "Có rất nhiều loại Widget như: nút nhấn (button), nhãn (label), khung nhập dữ liệu (Entry),..."
   ]
  },
  {
   "cell_type": "code",
   "execution_count": 5,
   "id": "e72510a4",
   "metadata": {},
   "outputs": [
    {
     "ename": "NameError",
     "evalue": "name 'lbl_login' is not defined",
     "output_type": "error",
     "traceback": [
      "\u001b[1;31m---------------------------------------------------------------------------\u001b[0m",
      "\u001b[1;31mNameError\u001b[0m                                 Traceback (most recent call last)",
      "Cell \u001b[1;32mIn[5], line 1\u001b[0m\n\u001b[1;32m----> 1\u001b[0m \u001b[43mlbl_login\u001b[49m\u001b[38;5;241m.\u001b[39mpack()\n\u001b[0;32m      2\u001b[0m lbl_username()\u001b[38;5;241m.\u001b[39mpack()\n\u001b[0;32m      3\u001b[0m username\u001b[38;5;241m.\u001b[39mpack()\n",
      "\u001b[1;31mNameError\u001b[0m: name 'lbl_login' is not defined"
     ]
    }
   ],
   "source": [
    "lbl_login.pack()\n",
    "lbl_username().pack()\n",
    "username.pack()\n",
    "lbl_password.pack()\n",
    "password.pack()\n",
    "btn_login.pack()\n",
    "windows.mainloop()"
   ]
  },
  {
   "cell_type": "markdown",
   "id": "50cf878f",
   "metadata": {},
   "source": [
    "## label\n",
    "\n",
    "Cú pháp:\n",
    "\n",
    "`<tên đối tượng> = Label(<cửa số>,text = <nội dung>)`"
   ]
  },
  {
   "cell_type": "code",
   "execution_count": 3,
   "id": "63782960",
   "metadata": {},
   "outputs": [
    {
     "ename": "NameError",
     "evalue": "name 'Lable' is not defined",
     "output_type": "error",
     "traceback": [
      "\u001b[1;31m---------------------------------------------------------------------------\u001b[0m",
      "\u001b[1;31mNameError\u001b[0m                                 Traceback (most recent call last)",
      "Cell \u001b[1;32mIn[3], line 1\u001b[0m\n\u001b[1;32m----> 1\u001b[0m lbl_login \u001b[38;5;241m=\u001b[39m \u001b[43mLable\u001b[49m(window, text \u001b[38;5;241m=\u001b[39m \u001b[38;5;124m\"\u001b[39m\u001b[38;5;124mLOGIN\u001b[39m\u001b[38;5;124m\"\u001b[39m)\n\u001b[0;32m      2\u001b[0m lbl_username \u001b[38;5;241m=\u001b[39m Lable(window, text \u001b[38;5;241m=\u001b[39m \u001b[38;5;124m\"\u001b[39m\u001b[38;5;124mUsername\u001b[39m\u001b[38;5;124m\"\u001b[39m)\n\u001b[0;32m      3\u001b[0m lbl_password \u001b[38;5;241m=\u001b[39m Lable(window, text \u001b[38;5;241m=\u001b[39m \u001b[38;5;124m\"\u001b[39m\u001b[38;5;124mPassword\u001b[39m\u001b[38;5;124m\"\u001b[39m)\n",
      "\u001b[1;31mNameError\u001b[0m: name 'Lable' is not defined"
     ]
    }
   ],
   "source": [
    "lbl_login = Label(window, text = \"LOGIN\")\n",
    "lbl_username = Label(window, text = \"Username\")\n",
    "lbl_password = Label(window, text = \"Password\")"
   ]
  },
  {
   "cell_type": "markdown",
   "id": "fbf4ab01",
   "metadata": {},
   "source": [
    "## entry\n",
    "\n",
    "Cú pháp:\n",
    "\n",
    "`<tên đối tượng> = Entry(<cửa số>)`\n"
   ]
  },
  {
   "cell_type": "code",
   "execution_count": 4,
   "id": "a8dea346",
   "metadata": {},
   "outputs": [
    {
     "ename": "NameError",
     "evalue": "name 'windows' is not defined",
     "output_type": "error",
     "traceback": [
      "\u001b[1;31m---------------------------------------------------------------------------\u001b[0m",
      "\u001b[1;31mNameError\u001b[0m                                 Traceback (most recent call last)",
      "Cell \u001b[1;32mIn[4], line 1\u001b[0m\n\u001b[1;32m----> 1\u001b[0m username \u001b[38;5;241m=\u001b[39m Entry(\u001b[43mwindows\u001b[49m)\n\u001b[0;32m      2\u001b[0m password \u001b[38;5;241m=\u001b[39m Entry(windows)\n",
      "\u001b[1;31mNameError\u001b[0m: name 'windows' is not defined"
     ]
    }
   ],
   "source": [
    "username = Entry(windows)\n",
    "password = Entry(windows)"
   ]
  },
  {
   "cell_type": "markdown",
   "id": "220d3157",
   "metadata": {},
   "source": [
    "## button\n",
    "\n",
    "Cú pháp:\n",
    "\n",
    "`<tên đối tượng> = Button(<cửa số>,text = <nội dung>)`"
   ]
  },
  {
   "cell_type": "code",
   "execution_count": 10,
   "id": "4376bd13",
   "metadata": {},
   "outputs": [
    {
     "ename": "NameError",
     "evalue": "name 'windows' is not defined",
     "output_type": "error",
     "traceback": [
      "\u001b[1;31m---------------------------------------------------------------------------\u001b[0m",
      "\u001b[1;31mNameError\u001b[0m                                 Traceback (most recent call last)",
      "Cell \u001b[1;32mIn[10], line 1\u001b[0m\n\u001b[1;32m----> 1\u001b[0m btn_login \u001b[38;5;241m=\u001b[39m Button(\u001b[43mwindows\u001b[49m, text\u001b[38;5;241m=\u001b[39m\u001b[38;5;124m\"\u001b[39m\u001b[38;5;124mLogin\u001b[39m\u001b[38;5;124m\"\u001b[39m)\n",
      "\u001b[1;31mNameError\u001b[0m: name 'windows' is not defined"
     ]
    }
   ],
   "source": [
    "btn_login = Button(windows, text=\"Login\")"
   ]
  },
  {
   "cell_type": "markdown",
   "id": "8bd06b13",
   "metadata": {},
   "source": [
    "## combobox"
   ]
  },
  {
   "cell_type": "code",
   "execution_count": null,
   "id": "74694770",
   "metadata": {},
   "outputs": [],
   "source": []
  },
  {
   "cell_type": "markdown",
   "id": "f5203893",
   "metadata": {},
   "source": [
    "## text"
   ]
  },
  {
   "cell_type": "code",
   "execution_count": null,
   "id": "f822f455",
   "metadata": {},
   "outputs": [],
   "source": []
  },
  {
   "cell_type": "markdown",
   "id": "7b58544c",
   "metadata": {},
   "source": [
    "## messagebox"
   ]
  },
  {
   "cell_type": "code",
   "execution_count": null,
   "id": "d721e682",
   "metadata": {},
   "outputs": [],
   "source": []
  },
  {
   "cell_type": "markdown",
   "id": "eebac94e",
   "metadata": {},
   "source": [
    "## checkbutton"
   ]
  },
  {
   "cell_type": "code",
   "execution_count": 6,
   "id": "1e534acb",
   "metadata": {},
   "outputs": [],
   "source": [
    "from tkinter import *\n",
    "from tkinter.ttk import *\n",
    "\n",
    "windows = Tk()\n",
    "windows.title(\"Registration\")\n",
    "\n",
    "registration_lbl = Label(windows, text=\"REGISTER\")\n",
    "fullname_lbl = Label(windows, text=\"Full name\")\n",
    "address_lbl = Label(windows, text=\"Address\")\n",
    "email_lbl = Label(windows, text=\"Email\")\n",
    "\n",
    "fullname_entry = Entry(windows)\n",
    "address_entry = Entry(windows)\n",
    "email_entry = Entry(windows)\n",
    "\n",
    "btn_register = Button(windows, text=\"Register\")\n",
    "btn_login = Button(windows, text=\"Login\")\n",
    "\n",
    "combo = Combobox(windows, state=\"readonly\")\n",
    "combo['value'] = (\"monday\", \"tuesday\", \"wednesday\", \"thursday\")\n",
    "\n",
    "text = Text(width=50, height=5)\n",
    "\n",
    "registration_lbl.grid(row=0, column=0, columnspan=2)\n",
    "fullname_lbl.grid(row=1, column=0)\n",
    "email_lbl.grid(row=2, column=0)\n",
    "address_lbl.grid(row=3, column=0)\n",
    "\n",
    "fullname_entry.grid(row=1, column=1)\n",
    "email_entry.grid(row=2, column=1)\n",
    "address_entry.grid(row=3, column=1)\n",
    "\n",
    "combo.grid(row=4, column=1)\n",
    "\n",
    "text.grid(row=5, column=0, columnspan=3)\n",
    "\n",
    "btn_login.grid(row=4, column=2)\n",
    "btn_register.grid(row=4, column=3)\n",
    "\n",
    "\n",
    "windows.mainloop()"
   ]
  }
 ],
 "metadata": {
  "kernelspec": {
   "display_name": "Python 3 (ipykernel)",
   "language": "python",
   "name": "python3"
  },
  "language_info": {
   "codemirror_mode": {
    "name": "ipython",
    "version": 3
   },
   "file_extension": ".py",
   "mimetype": "text/x-python",
   "name": "python",
   "nbconvert_exporter": "python",
   "pygments_lexer": "ipython3",
   "version": "3.11.3"
  }
 },
 "nbformat": 4,
 "nbformat_minor": 5
}
