{
 "cells": [
  {
   "cell_type": "code",
   "execution_count": 2,
   "id": "2b309b7e",
   "metadata": {},
   "outputs": [
    {
     "name": "stdout",
     "output_type": "stream",
     "text": [
      "Enter your height in centimeters: 168\n",
      "Enter your weight in kilograms: 55\n",
      "Your BMI is: 19.49\n",
      "Your classification is: Normal\n"
     ]
    }
   ],
   "source": [
    "height = float(input(\"Enter your height in centimeters: \"))\n",
    "weight = float(input(\"Enter your weight in kilograms: \"))\n",
    "\n",
    "bmi = round(weight / (height / 100) ** 2,2)\n",
    "\n",
    "if bmi < 16:\n",
    "  classification = \"Extremely thin (Level III)\"\n",
    "elif bmi < 17:\n",
    "  classification = \"Very thin (Level II)\"\n",
    "elif bmi < 18.5:\n",
    "  classification = \"Underweight (Level I)\"\n",
    "elif bmi < 25:\n",
    "  classification = \"Normal\"\n",
    "elif bmi < 30:\n",
    "  classification = \"Overweight\"\n",
    "elif bmi < 35:\n",
    "  classification = \"Obese Level I\"\n",
    "elif bmi < 40:\n",
    "  classification = \"Obese Level II\"\n",
    "else:\n",
    "  classification = \"Obese Level III\"\n",
    "\n",
    "print(\"Your BMI is:\", bmi)\n",
    "print(\"Your classification is:\", classification)"
   ]
  }
 ],
 "metadata": {
  "kernelspec": {
   "display_name": "Python 3 (ipykernel)",
   "language": "python",
   "name": "python3"
  },
  "language_info": {
   "codemirror_mode": {
    "name": "ipython",
    "version": 3
   },
   "file_extension": ".py",
   "mimetype": "text/x-python",
   "name": "python",
   "nbconvert_exporter": "python",
   "pygments_lexer": "ipython3",
   "version": "3.11.3"
  }
 },
 "nbformat": 4,
 "nbformat_minor": 5
}
