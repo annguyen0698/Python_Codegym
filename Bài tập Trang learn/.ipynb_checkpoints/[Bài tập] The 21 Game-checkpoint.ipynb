{
 "cells": [
  {
   "cell_type": "markdown",
   "id": "b710f6ab",
   "metadata": {},
   "source": [
    "# Mục tiêu\n",
    "Luyện tập sử dụng khối lệnh while và if…elif..else trong lập trình\n",
    "\n",
    "# Mô tả\n",
    "Trò chơi 21 là trò chơi số đếm được bắt đầu từ 0, hai người chơi lần lượt có thể thêm 1, 2 hoặc 3, vào tổng số. Tổng số không được vượt quá 21 và người chơi đếm tới 21 sẽ thua. Ở bài tập này, chúng ta sẽ giả định cho máy làm người chơi thứ 2.\n",
    "\n",
    "# Hướng dẫn\n",
    "Bước 1: Khởi tạo vòng lặp\n",
    "\n",
    "Dùng while để khởi tạo vòng lặp, điều kiện kiểm tra sẽ là True => trò chơi sẽ luôn được tiếp tục lại cho đến khi người dùng nhập giá trị để kết thúc.\n",
    "Bước 2: Sử lý trong vòng lặp\n",
    "\n",
    "Bước 2.1:  Khai báo biến tổng số đếm với giá trị khởi tạo = 0 (tạm gọi là current_number) \n",
    "\n",
    "Bước 2.2:  Dùng randint(0, 1) lấy ra một con số ngẫu nhiên để quyết định ai sẽ là người chơi hiện tại. (tạm gọi biến là current_player)\n",
    "\n",
    "Nếu bằng 0 thì current_player  = “human”, \n",
    "Nếu bằng 1 thì current_player  = “computer”\n",
    "Bước 2.3:\n",
    "\n",
    "Dùng while để tạo vòng lặp đếm số, điều kiện kiểm tra sẽ là current_number <= 21. Tiếp theo sẽ tạo hàm xử lý bên trong mỗi vòng lặp.\n",
    "In ra giá trị current_number cho người dùng\n",
    "Dùng if…else để bắt đầu kiểm tra lượt chơi:\n",
    "Nếu là lượt chơi của người\n",
    "Khai báo biến player_choice mang giá trị khởi tạo là chuỗi rỗng, biến này sẽ mang giá trị mà người chơi nhập vào. \n",
    "Dùng while để tạo vòng lặp kiểm tra giá trị player_choice có thuộc danh sách [‘1’, ‘2’, ‘3’] hay không, vòng lặp sẽ kết thúc khi người dùng nhập player_choice có giá trị phù hợp.\n",
    "Dùng hàm int() để chuyển biến player_choice sang kiểu int\n",
    "Giá trị current_number hiện tại sẽ được cộng thêm player_choice\n",
    "Dùng hàm if để kiểm tra giá trị của current_number đã lớn hơn hoặc bằng 21 chưa:\n",
    "Nếu đúng thì in ra số hiện tại, thông báo rằng người dùng đã thua và kết thúc vòng lập. \n",
    "Nếu sai thì gán giá trị mới cho current_player = ‘computer’ => lượt chơi tiếp theo sẽ là máy.\n",
    "Nếu là lượt chơi của máy\n",
    "Khai báo biến computer_choice, mang giá trị số mà máy sẽ chọn \n",
    "Dùng hàm randint(1,3) để lấy giá trị ngẫu nhiên từ 1 đến 3 rồi gán cho biến computer_choice\n",
    "In computer_choice ra để thông báo cho người chơi biết.\n",
    "Giá trị current_number lúc này sẽ được cộng thêm computer_choice.\n",
    "Dùng hàm if để kiểm tra giá trị của current_number đã lớn hơn hoặc bằng 21 chưa:  \n",
    "Nếu đúng thì in ra số hiện tại, thông báo rằng người chơi đã thắng và kết thúc vòng lập. \n",
    "Nếu sai thì thì gán giá trị mới cho current_player = ‘human’ => lượt chơi tiếp theo sẽ là người dùng.\n",
    "Bước 3: Khi vòng lặp kết thúc, Dùng input() để hỏi người chơi có muốn chơi lại không và gán giá trị cho biến play_again\n",
    "\n",
    "Bước 4: Dùng if…else để kiểm tra giá trị play_again:\n",
    "\n",
    "Nếu play_again bắt đầu bằng “y” thì dùng continue cho vòng lặp tiếp tục\n",
    "Nếu không thì dùng break kết thúc vòng lặp."
   ]
  },
  {
   "cell_type": "markdown",
   "id": "1fe4f6e2",
   "metadata": {},
   "source": [
    "continue to input = True\n",
    "trò chơi 21 -> số nhập = 1->3 \n",
    "\n",
    "count = 0 \n",
    "\n",
    "count <21\n",
    "count += số nhập\n",
    "\n",
    "count =21 thua \n",
    "\n",
    "\n",
    "\n",
    "\n"
   ]
  },
  {
   "cell_type": "code",
   "execution_count": 5,
   "id": "e2ba5696",
   "metadata": {},
   "outputs": [
    {
     "name": "stdout",
     "output_type": "stream",
     "text": [
      "Welcome to the 21 game. Game 21 is a number game that starts at 0, two players can respectively add 1, 2 or 3, to the total. The total cannot exceed 21 and the player who counts to 21 loses \n",
      "It's your turn. Please input 1, 2, 3: 3\n"
     ]
    },
    {
     "ename": "NameError",
     "evalue": "name 'computer_choice' is not defined",
     "output_type": "error",
     "traceback": [
      "\u001b[1;31m---------------------------------------------------------------------------\u001b[0m",
      "\u001b[1;31mNameError\u001b[0m                                 Traceback (most recent call last)",
      "Cell \u001b[1;32mIn[5], line 21\u001b[0m\n\u001b[0;32m     19\u001b[0m         \u001b[38;5;28;01mbreak\u001b[39;00m\n\u001b[0;32m     20\u001b[0m \u001b[38;5;28;01melse\u001b[39;00m: computer_choice \u001b[38;5;241m=\u001b[39m random\u001b[38;5;241m.\u001b[39mrandin(\u001b[38;5;241m1\u001b[39m,\u001b[38;5;241m3\u001b[39m)\n\u001b[1;32m---> 21\u001b[0m count \u001b[38;5;241m+\u001b[39m\u001b[38;5;241m=\u001b[39m \u001b[43mcomputer_choice\u001b[49m\n\u001b[0;32m     22\u001b[0m \u001b[38;5;28;01mif\u001b[39;00m count \u001b[38;5;241m==\u001b[39m \u001b[38;5;241m21\u001b[39m:\n\u001b[0;32m     23\u001b[0m         \u001b[38;5;28mprint\u001b[39m(\u001b[38;5;124m\"\u001b[39m\u001b[38;5;124mComputer win!!!\u001b[39m\u001b[38;5;124m\"\u001b[39m)\n",
      "\u001b[1;31mNameError\u001b[0m: name 'computer_choice' is not defined"
     ]
    }
   ],
   "source": [
    "import random\n",
    "\n",
    "print(\"Welcome to the 21 game. Game 21 is a number game that starts at 0, two players can respectively add 1, 2 or 3, to the total. The total cannot exceed 21 and the player who counts to 21 loses \")\n",
    "\n",
    "count = 0 \n",
    "current_player = random.randint(0, 1)\n",
    "\n",
    "Play_again = True\n",
    "\n",
    "while Play_again:\n",
    "    while count<=21:\n",
    "        if current_player == 0: \n",
    "            player_choice = int(input(\"It's your turn. Please input 1, 2, 3: \"))\n",
    "            if player_choice not in {1 , 2, 3}:\n",
    "                player_choice =int(input(\"you input a wrong number. Please input again: \"))\n",
    "            count += player_choice\n",
    "            if count == 21:\n",
    "                print (\"Player win!!!\")\n",
    "                break\n",
    "        else: computer_choice = random.randin(1,3)\n",
    "        count += computer_choice\n",
    "        if count == 21:\n",
    "                print(\"Computer win!!!\")\n",
    "                break\n",
    "                \n",
    "    question = str(input(\"Would you want to play again? (y/n) \").title())\n",
    "    if question == 'Y':\n",
    "        play_again = True\n",
    "    elif question == 'N':\n",
    "        play_again = False"
   ]
  }
 ],
 "metadata": {
  "kernelspec": {
   "display_name": "Python 3 (ipykernel)",
   "language": "python",
   "name": "python3"
  },
  "language_info": {
   "codemirror_mode": {
    "name": "ipython",
    "version": 3
   },
   "file_extension": ".py",
   "mimetype": "text/x-python",
   "name": "python",
   "nbconvert_exporter": "python",
   "pygments_lexer": "ipython3",
   "version": "3.11.3"
  }
 },
 "nbformat": 4,
 "nbformat_minor": 5
}
