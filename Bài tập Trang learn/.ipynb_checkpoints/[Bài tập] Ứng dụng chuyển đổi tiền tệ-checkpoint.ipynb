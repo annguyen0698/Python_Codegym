{
 "cells": [
  {
   "cell_type": "code",
   "execution_count": 1,
   "id": "53f9c998",
   "metadata": {},
   "outputs": [
    {
     "name": "stdout",
     "output_type": "stream",
     "text": [
      "Nhập số tiền USD cần đổi: 12\n",
      "Nhập tỉ giá USD/VND: 23500\n",
      "Số tiền VND bạn nhận được là: 282000đ\n"
     ]
    }
   ],
   "source": [
    "USD = int(input(\"Nhập số tiền USD cần đổi: \"))\n",
    "Ti_gia=int(input(\"Nhập tỉ giá USD/VND: \"))\n",
    "vnd = USD * Ti_gia\n",
    "print(f\"Số tiền VND bạn nhận được là: {vnd}đ\")"
   ]
  }
 ],
 "metadata": {
  "kernelspec": {
   "display_name": "Python 3 (ipykernel)",
   "language": "python",
   "name": "python3"
  },
  "language_info": {
   "codemirror_mode": {
    "name": "ipython",
    "version": 3
   },
   "file_extension": ".py",
   "mimetype": "text/x-python",
   "name": "python",
   "nbconvert_exporter": "python",
   "pygments_lexer": "ipython3",
   "version": "3.11.3"
  }
 },
 "nbformat": 4,
 "nbformat_minor": 5
}
