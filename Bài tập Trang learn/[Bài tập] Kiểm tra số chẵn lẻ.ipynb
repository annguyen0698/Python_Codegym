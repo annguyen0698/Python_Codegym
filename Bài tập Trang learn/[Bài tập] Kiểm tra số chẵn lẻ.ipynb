{
 "cells": [
  {
   "cell_type": "code",
   "execution_count": null,
   "id": "5f8cf288",
   "metadata": {},
   "outputs": [],
   "source": [
    "a = input(\"Please input a number to check even or odd: \")\n",
    "a = float(a)\n",
    "if a % 2\n",
    "    print(\"odd\")\n",
    "elif not a % 2:\n",
    "    print(\"\")\n",
    "else:\n",
    "    print('không phải số tự nhiên')"
   ]
  }
 ],
 "metadata": {
  "kernelspec": {
   "display_name": "Python 3 (ipykernel)",
   "language": "python",
   "name": "python3"
  },
  "language_info": {
   "codemirror_mode": {
    "name": "ipython",
    "version": 3
   },
   "file_extension": ".py",
   "mimetype": "text/x-python",
   "name": "python",
   "nbconvert_exporter": "python",
   "pygments_lexer": "ipython3",
   "version": "3.11.3"
  }
 },
 "nbformat": 4,
 "nbformat_minor": 5
}
