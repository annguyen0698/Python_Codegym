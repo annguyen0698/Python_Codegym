{
 "cells": [
  {
   "cell_type": "markdown",
   "id": "262e83bf",
   "metadata": {},
   "source": [
    "Mô tả\n",
    "Viết chương trình nhập một giá trị là độ 0C (Celsius) và chuyển nó sang độ 0F (Fahrenheit).\n",
    "\n",
    "Gợi ý\n",
    "Các bước thực hiện:\n",
    "\n",
    "Nhập vào giá trị độ °C muốn chuyển đổi\n",
    "Tính độ °F tương ứng qua công thức:\n",
    "°F  =  ( °C × 1.8 ) +  32\n",
    "Hiển thị độ °F (In ra màn hình)"
   ]
  },
  {
   "cell_type": "code",
   "execution_count": 1,
   "id": "78d3326c",
   "metadata": {},
   "outputs": [
    {
     "ename": "SyntaxError",
     "evalue": "invalid character '×' (U+00D7) (3916144938.py, line 2)",
     "output_type": "error",
     "traceback": [
      "\u001b[1;36m  Cell \u001b[1;32mIn[1], line 2\u001b[1;36m\u001b[0m\n\u001b[1;33m    f_celcius = (c_celcius × 1.8 ) +  32\u001b[0m\n\u001b[1;37m                           ^\u001b[0m\n\u001b[1;31mSyntaxError\u001b[0m\u001b[1;31m:\u001b[0m invalid character '×' (U+00D7)\n"
     ]
    }
   ],
   "source": [
    "c_celcius = int(input(\"Please input the celcius you need to transfer in to F: \"))\n",
    "f_celcius = (c_celcius × 1.8 ) +  32\n",
    "print(f\"{c_celcius}°C = {f_celcius}°F\" )"
   ]
  }
 ],
 "metadata": {
  "kernelspec": {
   "display_name": "Python 3 (ipykernel)",
   "language": "python",
   "name": "python3"
  },
  "language_info": {
   "codemirror_mode": {
    "name": "ipython",
    "version": 3
   },
   "file_extension": ".py",
   "mimetype": "text/x-python",
   "name": "python",
   "nbconvert_exporter": "python",
   "pygments_lexer": "ipython3",
   "version": "3.11.3"
  }
 },
 "nbformat": 4,
 "nbformat_minor": 5
}
