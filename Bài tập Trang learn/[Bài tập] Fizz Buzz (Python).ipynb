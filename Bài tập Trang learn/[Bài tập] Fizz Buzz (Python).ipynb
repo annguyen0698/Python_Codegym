{
 "cells": [
  {
   "cell_type": "markdown",
   "id": "00a1a111",
   "metadata": {},
   "source": [
    "Mục tiêu\n",
    "Luyện tập sử dụng khối lệnh for và if…elif…else trong lập trình\n",
    "\n",
    "Mô tả\n",
    "Fizz Buzz là một bài toán lập trình cổ điển. Đây là phiên bản sửa đổi nhẹ của nó.\n",
    "Viết chương trình lấy đầu vào là hai số nguyên: đầu và cuối khoảng (cả hai số đều thuộc khoảng).\n",
    "Chương trình sẽ in ra các số trong khoảng này. Nhưng nếu số đó chia hết cho 3, bạn sẽ in ra “Fizz” thay vì nó, nếu số đó chia hết cho 5, in ra “Buzz” và nếu số đó chia hết cho cả 3 và 5, hãy in ra “FizzBuzz”.\n",
    "\n",
    "Hướng dẫn\n",
    "Bước 1: Cho người dùng nhập biến\n",
    "\n",
    " Dùng hàm input() để nhập hai số bất kì. \n",
    "Dùng hàm split() để tách chuỗi số vừa nhập để lấy được số bất đầu và số kết thúc.\n",
    "Dùng hàm int() để chuyển số bắt đầu và kết thúc về kiểu int.\n",
    "Bước 2: Kiểm tra biến nhập\n",
    "\n",
    "Dùng if…else để xử lý hai trường hợp có thể xảy ra:\n",
    "Nếu số kết thúc bé hơn số bắt đầu thì thông báo số kết thúc cần lớn hơn số bắt    đầu\n",
    "Nếu số bắt đầu lớn hơn hoặc bằng số kết thúc thì bắt đầu xử lý việc in kết quả\n",
    "Bước 3: Bắt đầu xử lý việc in kết quả\n",
    "\n",
    "Dùng for…in range(start, end) để khởi tạo vòng lặp. \n",
    "Lưu ý: vòng lặp sẽ bắt đầu từ startNumber và kết thúc ở endNumber + 1 (để vòng lặp sẽ lặp qua được endNumber )\n",
    "\n",
    "Trong mỗi vòng lặp sẽ dùng khổi lệnh if…elif…else để kiểm tra biến lặp và in ra kết quả phù hợp: \n",
    "Chia hết cho 3 và 5 thì in ra “FizzBuzz”\n",
    "Hoặc chia hết cho 3 thì in ra “Fizz”\n",
    "Hoặc chia hết cho 5 thì in ra “Buzz”\n",
    "Không thuộc 3 trường hợp trên thì ra chính giá trị của biến lặp"
   ]
  },
  {
   "cell_type": "code",
   "execution_count": 17,
   "id": "064d4a7c",
   "metadata": {},
   "outputs": [
    {
     "name": "stdout",
     "output_type": "stream",
     "text": [
      "Please input 2 numbers: 25\n",
      "2\n",
      "Fizz\n",
      "4\n",
      "Buzz\n"
     ]
    }
   ],
   "source": [
    "number = int(input(\"Please input 2 numbers: \"))\n",
    "\n",
    "number2 = number % 10\n",
    "number1 = (number-number2)//10\n",
    "\n",
    "if number1 >= number2:\n",
    "             print(\"the second number you input need to bigger than the first number!!\")\n",
    "\n",
    "else:\n",
    "    for i in range(number1, number2+1):\n",
    "            if i % 3 == 0 and i % 5 == 0:\n",
    "                print(\"FizzBuzz\")\n",
    "            elif i % 3 == 0:\n",
    "                print(\"Fizz\")\n",
    "            elif i % 5 == 0:\n",
    "                print(\"Buzz\")\n",
    "            else:\n",
    "                print(i)\n",
    "        "
   ]
  }
 ],
 "metadata": {
  "kernelspec": {
   "display_name": "Python 3 (ipykernel)",
   "language": "python",
   "name": "python3"
  },
  "language_info": {
   "codemirror_mode": {
    "name": "ipython",
    "version": 3
   },
   "file_extension": ".py",
   "mimetype": "text/x-python",
   "name": "python",
   "nbconvert_exporter": "python",
   "pygments_lexer": "ipython3",
   "version": "3.11.3"
  }
 },
 "nbformat": 4,
 "nbformat_minor": 5
}
