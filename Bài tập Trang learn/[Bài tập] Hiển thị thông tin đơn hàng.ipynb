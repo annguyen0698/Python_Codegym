{
 "cells": [
  {
   "cell_type": "markdown",
   "id": "3ce879f1",
   "metadata": {},
   "source": [
    "# Mô tả\n",
    "Viết chương trình hỏi người dùng đã chi bao nhiêu tiền tại cửa hàng.\n",
    "\n",
    "Nếu họ chi ít hơn 75$, họ sẽ không được giảm giá.\n",
    "\n",
    "Nếu họ chi 75$ trở lên, họ sẽ được giảm giá 15$.\n",
    "\n",
    "Nếu người dùng chi từ 100$ trở lên, họ sẽ được giảm giá 25$.\n",
    "\n",
    "Nếu người dùng chi từ 150$ trở lên, họ sẽ được giảm giá 50$.\n",
    "Sau đó in ra tổng số tiền mà người dùng phải thanh toán.\n",
    "\n",
    "\n",
    "Hướng dẫn\n",
    "Sử dụng function: input() để nhập một số tiền bất kì, sau đó chuyển kiểu về int. Dựa vào số tiền đã nhập, chúng ta sẽ tìm và in ra số tiền người dùng phải thanh toán thông qua các mức giảm giá:\n",
    "\n",
    "Nếu chi từ 150$ trở lên:  số tiền thanh toán = số tiền nhập – 50,\n",
    "Nếu chi từ 100$ trở lên:  số tiền thanh toán = số tiền nhập – 25,\n",
    "Nếu chi từ 75$ trở lên:  số tiền thanh toán = số tiền nhập – 15,\n",
    "Nếu chi ít hơn 75$:  số tiền thanh toán = số tiền nhập,\n"
   ]
  },
  {
   "cell_type": "code",
   "execution_count": 5,
   "id": "4c2434a2",
   "metadata": {},
   "outputs": [
    {
     "name": "stdout",
     "output_type": "stream",
     "text": [
      "Please input the amount of money has been spent in the store ($): 100\n",
      "You spent 100 on the shopping, you will get 15$ discount\n",
      "Total bill: 85.0$\n"
     ]
    }
   ],
   "source": [
    "expense = int(input(\"Please input the amount of money has been spent in the store ($): \"))\n",
    "\n",
    "if expense < 75:\n",
    "    discount = 0\n",
    "elif expense > 75: \n",
    "    discount = expense*0.15\n",
    "elif expense > 100:\n",
    "    discount = expense*0.25\n",
    "else:     discount = expense*0.5\n",
    "\n",
    "Payment = expense - discount\n",
    "print(f\"You spent {expense} on the shopping, you will get {int(discount)}$ discount\")\n",
    "print(f\"Total bill: {Payment}$\")\n"
   ]
  }
 ],
 "metadata": {
  "kernelspec": {
   "display_name": "Python 3 (ipykernel)",
   "language": "python",
   "name": "python3"
  },
  "language_info": {
   "codemirror_mode": {
    "name": "ipython",
    "version": 3
   },
   "file_extension": ".py",
   "mimetype": "text/x-python",
   "name": "python",
   "nbconvert_exporter": "python",
   "pygments_lexer": "ipython3",
   "version": "3.11.3"
  }
 },
 "nbformat": 4,
 "nbformat_minor": 5
}
