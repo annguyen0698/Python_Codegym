{
 "cells": [
  {
   "cell_type": "markdown",
   "metadata": {},
   "source": [
    "## Review: type()"
   ]
  },
  {
   "cell_type": "code",
   "execution_count": 1,
   "metadata": {},
   "outputs": [
    {
     "name": "stdout",
     "output_type": "stream",
     "text": [
      "<class 'int'>\n",
      "<class 'float'>\n",
      "<class 'bool'>\n",
      "<class 'str'>\n"
     ]
    }
   ],
   "source": [
    "# Python có 4 kiểu dữ liệu cơ bản# Python có 4 kiểu dữ liệu cơ bản\n",
    "print(type(4))\n",
    "print(type(10.05))\n",
    "print(type(True))\n",
    "print(type('Hello Python'))"
   ]
  },
  {
   "cell_type": "markdown",
   "metadata": {},
   "source": [
    "## list là gì?"
   ]
  },
  {
   "cell_type": "code",
   "execution_count": null,
   "metadata": {},
   "outputs": [],
   "source": [
    "# Ví dụ\n",
    "diem_van_1 = 7\n",
    "diem_toan_1 = 8\n",
    "diem_anh_van_1 = 6.5\n",
    "diem_van_2 = 7\n",
    "diem_toan_2 = 8\n",
    "diem_anh_van_2 = 6.5"
   ]
  },
  {
   "cell_type": "code",
   "execution_count": null,
   "metadata": {},
   "outputs": [],
   "source": [
    "# Sử dụng list\n",
    "[1, 2, 3]\n",
    "['Python', 'Hello', 'PYF2202R1']\n",
    "[True, False]\n",
    "[1.0, 3.14, 2.56, -1.03]\n",
    "[1, 'python', True, -10, [1, 2, 3]]"
   ]
  },
  {
   "cell_type": "code",
   "execution_count": 2,
   "metadata": {},
   "outputs": [
    {
     "name": "stdout",
     "output_type": "stream",
     "text": [
      "monday\n",
      "tuesday\n",
      "wednesday\n",
      "thursday\n",
      "--------------------\n",
      "monday\n",
      "tuesday\n",
      "wednesday\n",
      "thursday\n"
     ]
    }
   ],
   "source": [
    "weekdays = ['monday', 'tuesday', 'wednesday', 'thursday']\n",
    "\n",
    "for day in weekdays:\n",
    "    print(day)\n",
    "    \n",
    "print('-' * 20)\n",
    "\n",
    "for i in range(len(weekdays)):\n",
    "    print(weekdays[i])"
   ]
  },
  {
   "cell_type": "markdown",
   "metadata": {},
   "source": [
    "### Thực hành: Viết chương trình tạo ra một list các string khác nhau và đếm tổng số lượng string dài hơn 3 kí tự"
   ]
  },
  {
   "cell_type": "code",
   "execution_count": 2,
   "metadata": {},
   "outputs": [
    {
     "name": "stdout",
     "output_type": "stream",
     "text": [
      "There are 3 strings in the list that are longer than 3 characters.\n"
     ]
    }
   ],
   "source": [
    "def count_three_characters(strings):\n",
    "  count = 0\n",
    "  for string in strings:\n",
    "    if len(string) > 3:\n",
    "      count += 1\n",
    "  return count\n",
    "\n",
    "random_contents = ['abcde', 'ab', 'c', 'abcd', 'abcdef']\n",
    "\n",
    "count = count_three_characters(random_contents)\n",
    "\n",
    "print(f\"There are {count} strings in the list that are longer than 3 characters.\")\n"
   ]
  },
  {
   "cell_type": "code",
   "execution_count": 3,
   "metadata": {},
   "outputs": [
    {
     "name": "stdout",
     "output_type": "stream",
     "text": [
      "Có 3 string dài hơn 3 ký tự.\n"
     ]
    }
   ],
   "source": [
    "random_contents = ['abcds', 'ab', 'c', 'abcd', 'abcdef']\n",
    "count = 0\n",
    "\n",
    "for string in random_contents:\n",
    "    if len(string) > 3:\n",
    "        count += 1\n",
    "        \n",
    "print(f\"Có {count} string dài hơn 3 ký tự.\")\n"
   ]
  },
  {
   "cell_type": "markdown",
   "metadata": {},
   "source": [
    "### Thực hành 2: Viết chương trình nhận vào 2 list và trả về True nếu 2 list có ít nhất 1 phần tử chung, ngược lại trả về False"
   ]
  },
  {
   "cell_type": "code",
   "execution_count": 9,
   "metadata": {},
   "outputs": [
    {
     "name": "stdout",
     "output_type": "stream",
     "text": [
      "Please input list 1(put all element in [] and seperated by a comma): [1,2,10,11]\n",
      "Please input list 2(put all element in [] and seperated by a comma): [12,13,14,15,1]\n",
      "True\n"
     ]
    }
   ],
   "source": [
    "def return_truefalse_forlist(list1, list2):\n",
    "    for element in list1:\n",
    "        if element in list2:\n",
    "            return True \n",
    "        return False\n",
    "\n",
    "list_1 = input(\"Please input list 1(put all element in [] and seperated by a comma): \")\n",
    "list_2= input(\"Please input list 2(put all element in [] and seperated by a comma): \")\n",
    "\n",
    "print(return_truefalse_forlist(list_1, list_2))"
   ]
  },
  {
   "cell_type": "markdown",
   "metadata": {},
   "source": [
    "## Các thao tác cơ bản với list"
   ]
  },
  {
   "cell_type": "markdown",
   "metadata": {},
   "source": [
    "### Kiểm tra độ dài list"
   ]
  },
  {
   "cell_type": "code",
   "execution_count": 12,
   "metadata": {},
   "outputs": [
    {
     "name": "stdout",
     "output_type": "stream",
     "text": [
      "6\n"
     ]
    }
   ],
   "source": [
    "numbers = [0, 1, 2, 3, 4, 5]\n",
    "print(len(numbers))"
   ]
  },
  {
   "cell_type": "markdown",
   "metadata": {},
   "source": [
    "### Truy cập phần tử trên list"
   ]
  },
  {
   "cell_type": "code",
   "execution_count": 13,
   "metadata": {
    "scrolled": true
   },
   "outputs": [
    {
     "name": "stdout",
     "output_type": "stream",
     "text": [
      "[0, 1, 2, 3, 4, 5]\n",
      "2\n",
      "[0, 1, 100, 3, 4, 5]\n",
      "100\n"
     ]
    }
   ],
   "source": [
    "numbers = [0, 1, 2, 3, 4, 5]\n",
    "print(numbers)\n",
    "print(numbers[-4])\n",
    "\n",
    "numbers[2] = 100  # item assignment\n",
    "print(numbers)\n",
    "print(numbers[2])"
   ]
  },
  {
   "cell_type": "code",
   "execution_count": 14,
   "metadata": {},
   "outputs": [
    {
     "ename": "TypeError",
     "evalue": "'str' object does not support item assignment",
     "output_type": "error",
     "traceback": [
      "\u001b[1;31m---------------------------------------------------------------------------\u001b[0m",
      "\u001b[1;31mTypeError\u001b[0m                                 Traceback (most recent call last)",
      "Cell \u001b[1;32mIn[14], line 2\u001b[0m\n\u001b[0;32m      1\u001b[0m content \u001b[38;5;241m=\u001b[39m \u001b[38;5;124m'\u001b[39m\u001b[38;5;124mhello\u001b[39m\u001b[38;5;124m'\u001b[39m\n\u001b[1;32m----> 2\u001b[0m \u001b[43mcontent\u001b[49m\u001b[43m[\u001b[49m\u001b[38;5;241;43m3\u001b[39;49m\u001b[43m]\u001b[49m \u001b[38;5;241m=\u001b[39m \u001b[38;5;124m'\u001b[39m\u001b[38;5;124mm\u001b[39m\u001b[38;5;124m'\u001b[39m\n",
      "\u001b[1;31mTypeError\u001b[0m: 'str' object does not support item assignment"
     ]
    }
   ],
   "source": [
    "content = 'hello'\n",
    "content[3] = 'm'\n",
    "# đối tượng 'str' không hỗ trợ gán thay đổi "
   ]
  },
  {
   "cell_type": "markdown",
   "metadata": {},
   "source": [
    "### Thực hành: Tạo một list 10 số tự nhiên và in ra các phần tử trong list"
   ]
  },
  {
   "cell_type": "code",
   "execution_count": 16,
   "metadata": {},
   "outputs": [
    {
     "name": "stdout",
     "output_type": "stream",
     "text": [
      "1 2 3 4 5 6 7 8 9 10 "
     ]
    }
   ],
   "source": [
    "numbers = list(range(1, 11))\n",
    "\n",
    "for number in numbers:\n",
    "  print(number, end = \" \")"
   ]
  },
  {
   "cell_type": "markdown",
   "metadata": {},
   "source": [
    "### Thực hành 2: Tạo ra một list con chưa 2 phần tử cuối cùng từ list đã tạo ở trên"
   ]
  },
  {
   "cell_type": "code",
   "execution_count": 17,
   "metadata": {},
   "outputs": [
    {
     "name": "stdout",
     "output_type": "stream",
     "text": [
      "[8, 9]\n"
     ]
    }
   ],
   "source": [
    "numbers = [0, 1, 2, 3, 4, 5, 6, 7, 8, 9]\n",
    "\n",
    "#cách 1: \n",
    "sub_list = [numbers[-2], numbers[-1]]\n",
    "print(sub_list)\n",
    "\n",
    "#cách 2: \n",
    "sublist = [numbers[len(numbers) - 2], numbers[len(numbers) - 1]]\n",
    "print(sub_list)\n",
    "\n",
    "# cách 3:\n",
    "sub_list = numbers[-2:]\n",
    "print(sub_list)"
   ]
  },
  {
   "cell_type": "markdown",
   "metadata": {},
   "source": [
    "### Cộng list"
   ]
  },
  {
   "cell_type": "code",
   "execution_count": null,
   "metadata": {},
   "outputs": [],
   "source": [
    "a = [1, 2, 3]\n",
    "b = [4, 5, 6]\n",
    "c = a + b\n",
    "print(c)\n",
    "\n",
    "d = a * 3\n",
    "print(d)"
   ]
  },
  {
   "cell_type": "markdown",
   "metadata": {},
   "source": [
    "### Thực hành: Thêm học sinh vào lớp"
   ]
  },
  {
   "cell_type": "code",
   "execution_count": 18,
   "metadata": {},
   "outputs": [
    {
     "name": "stdout",
     "output_type": "stream",
     "text": [
      "['Andy', 'Bella', 'Cindy', 'Daniel', 'Emma', 'Ferb']\n",
      "['Andy', 'Bella', 'Cindy', 'Daniel', 'Emma', 'Ferb', 'Gina']\n",
      "['Andy', 'Bella', 'Cindy', 'Daniel', 'Emma', 'Ferb', 'Gina', 'Emma', 'Ferb']\n",
      "['Andy', 'Bella', 'Cindy', 'Daniel', 'Emma', 'Ferb', 'Gina', 'Emma']\n",
      "['Andy', 'Bella', 'Cindy', 'Daniel', 'Emma', 'Ferb']\n"
     ]
    }
   ],
   "source": [
    "# Tạo một list danh_sach_lop chứa tên của 4 học sinh khác nhau và một list hoc_sinh_moi chứa tên của\n",
    "# 2 học sinh mới vào lớp. Hãy thêm tên các học sinh mới vào list danh_sach_lop bằng cách cộng list.\n",
    "danh_sach_lop = ['Andy', 'Bella', 'Cindy', 'Daniel']\n",
    "hoc_sinh_moi = ['Emma', 'Ferb']\n",
    "\n",
    "danh_sach_lop += hoc_sinh_moi\n",
    "print(danh_sach_lop)\n",
    "\n",
    "danh_sach_lop.append('Gina')\n",
    "print(danh_sach_lop)\n",
    "\n",
    "danh_sach_lop.extend(hoc_sinh_moi)\n",
    "print(danh_sach_lop)\n",
    "\n",
    "danh_sach_lop.pop()\n",
    "print(danh_sach_lop)\n",
    "\n",
    "danh_sach_lop = danh_sach_lop[:-2]\n",
    "print(danh_sach_lop)"
   ]
  },
  {
   "cell_type": "markdown",
   "metadata": {},
   "source": [
    "### Kiểm tra phần tử tồn tại trong list"
   ]
  },
  {
   "cell_type": "code",
   "execution_count": 19,
   "metadata": {},
   "outputs": [
    {
     "name": "stdout",
     "output_type": "stream",
     "text": [
      "False\n"
     ]
    }
   ],
   "source": [
    "student_list = ['Andy', 'Bella', 'Cindy', 'Daniel', 'Emma', 'Ferb']\n",
    "print('Anne' in student_list)"
   ]
  },
  {
   "cell_type": "markdown",
   "metadata": {},
   "source": [
    "### Xóa phần tử khỏi list"
   ]
  },
  {
   "cell_type": "code",
   "execution_count": 24,
   "metadata": {},
   "outputs": [
    {
     "name": "stdout",
     "output_type": "stream",
     "text": [
      "[1, 2, 1]\n"
     ]
    }
   ],
   "source": [
    "Xóa phần tử khỏi list\n",
    "a = [1, 2, 3, 1]\n",
    "# Cách 1: remove(), remove sẽ loại bỏ lần xuất hiện đầu tiên của element này.\n",
    "a.remove(1)\n",
    "print(a)\n",
    "\n",
    "a = [1, 2, 3, 1]\n",
    "# Cách 2: del\n",
    "del a[0]\n",
    "print(a)"
   ]
  },
  {
   "cell_type": "markdown",
   "metadata": {},
   "source": [
    "### Sắp xếp list"
   ]
  },
  {
   "cell_type": "code",
   "execution_count": 25,
   "metadata": {},
   "outputs": [
    {
     "name": "stdout",
     "output_type": "stream",
     "text": [
      "List before sort: [20, 31, 25, 67, 1, 173]\n",
      "List after sort: [173, 67, 31, 25, 20, 1]\n"
     ]
    }
   ],
   "source": [
    "a = [20, 31, 25, 67, 1, 173]\n",
    "# Cach 1: sort()\n",
    "print(f\"List before sort: {a}\")\n",
    "a.sort(reverse=True)\n",
    "print(f\"List after sort: {a}\")"
   ]
  },
  {
   "cell_type": "markdown",
   "metadata": {},
   "source": [
    "### Làm rỗng list"
   ]
  },
  {
   "cell_type": "code",
   "execution_count": 29,
   "metadata": {},
   "outputs": [
    {
     "name": "stdout",
     "output_type": "stream",
     "text": [
      "[1, 2, 3]\n",
      "[]\n"
     ]
    }
   ],
   "source": [
    "a = [1, 2, 3]\n",
    "print(a)\n",
    "\n",
    "a = []\n",
    "\n",
    "a.clear()\n",
    "print(a)"
   ]
  },
  {
   "cell_type": "markdown",
   "metadata": {},
   "source": [
    "### Copy list"
   ]
  },
  {
   "attachments": {
    "image.png": {
     "image/png": "[encoded data removed]"
    }
   },
   "cell_type": "markdown",
   "metadata": {},
   "source": [
    "![image.png](attachment:image.png)"
   ]
  },
  {
   "cell_type": "markdown",
   "metadata": {},
   "source": [
    "## tuple"
   ]
  },
  {
   "cell_type": "code",
   "execution_count": 30,
   "metadata": {},
   "outputs": [
    {
     "name": "stdout",
     "output_type": "stream",
     "text": [
      "Python\n",
      "3-5-7\n",
      "2\n"
     ]
    }
   ],
   "source": [
    "info = (\"Python\", \"3-5-7\", 2)\n",
    "\n",
    "# unpack tuple\n",
    "course_name, day, duration = info\n",
    "print(course_name)\n",
    "print(day)\n",
    "print(duration)"
   ]
  }
 ],
 "metadata": {
  "kernelspec": {
   "display_name": "Python 3 (ipykernel)",
   "language": "python",
   "name": "python3"
  },
  "language_info": {
   "codemirror_mode": {
    "name": "ipython",
    "version": 3
   },
   "file_extension": ".py",
   "mimetype": "text/x-python",
   "name": "python",
   "nbconvert_exporter": "python",
   "pygments_lexer": "ipython3",
   "version": "3.11.3"
  }
 },
 "nbformat": 4,
 "nbformat_minor": 4
}
