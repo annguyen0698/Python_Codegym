{
 "cells": [
  {
   "cell_type": "code",
   "execution_count": null,
   "id": "250f6721",
   "metadata": {},
   "outputs": [],
   "source": [
    "print(\"Welcome to the 21 game. Game 21 is a number game that starts at 0, two players can respectively add 1, 2 or 3, to the total. The total cannot exceed 21 and the player who counts to 21 loses \")\n",
    "\n",
    "import random\n",
    "def determine_turn():\n",
    "    global count, player_turn\n",
    "    count = 0 \n",
    "    current_player = random.randint(0, 1)\n",
    "    if current_player == 0:\n",
    "        player_turn = True\n",
    "    else:\n",
    "        player_turn = False\n",
    "determine_turn()\n",
    "\n",
    "play_again = True\n",
    "\n",
    "while play_again:\n",
    "    determine_turn()\n",
    "    while count < 21:\n",
    "        if player_turn: \n",
    "            player_choice = int(input(\"It's your turn. Please input 1, 2, 3: \"))\n",
    "            while player_choice not in [1 , 2, 3]:\n",
    "                player_choice =int(input(\"you input a wrong number. Please input again: \"))\n",
    "            count += player_choice\n",
    "            print(f\"Current count is {count}\")\n",
    "            player_turn = False\n",
    "            if count >= 21:\n",
    "                print (\"Computer win!!!\")\n",
    "                break\n",
    "        else: \n",
    "            print(\"It's computer's turn\")\n",
    "            computer_choice = random.randint(1,3)\n",
    "            print(f\"computer choose {computer_choice}\")\n",
    "            count += computer_choice\n",
    "            print(f\"Current count is {count}\")\n",
    "            player_turn = True\n",
    "            if count >= 21:\n",
    "                print(\"Player win!!!\")\n",
    "                break\n",
    "        print(\"=\" * 20) \n",
    "                \n",
    "    question = str(input(\"Would you want to play again? (y/n) \").title())\n",
    "    if question == 'Y':\n",
    "        play_again = True\n",
    "    elif question == 'N':\n",
    "        play_again = False\n",
    "\n",
    "print(\"Thanks for playing!!!!!!\")\n",
    "        \n"
   ]
  },
  {
   "cell_type": "markdown",
   "id": "75f1d4a4",
   "metadata": {},
   "source": [
    "1. đưa lựa chọn lượt chơi. \n",
    "2. count >=21 thua \n",
    "3. computer và người phải take turn \n",
    "4. đặt câu hỏi có muốn chơi lại hay không "
   ]
  }
 ],
 "metadata": {
  "kernelspec": {
   "display_name": "Python 3 (ipykernel)",
   "language": "python",
   "name": "python3"
  },
  "language_info": {
   "codemirror_mode": {
    "name": "ipython",
    "version": 3
   },
   "file_extension": ".py",
   "mimetype": "text/x-python",
   "name": "python",
   "nbconvert_exporter": "python",
   "pygments_lexer": "ipython3",
   "version": "3.11.3"
  }
 },
 "nbformat": 4,
 "nbformat_minor": 5
}
