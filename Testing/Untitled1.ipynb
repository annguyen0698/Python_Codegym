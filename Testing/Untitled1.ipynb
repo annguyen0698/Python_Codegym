{
 "cells": [
  {
   "cell_type": "code",
   "execution_count": 17,
   "id": "1d8c32dd",
   "metadata": {},
   "outputs": [
    {
     "name": "stdout",
     "output_type": "stream",
     "text": [
      "5\n"
     ]
    }
   ],
   "source": [
    "i = 0\n",
    "\n",
    "j = 10\n",
    "count = 0\n",
    "while i + j < 20:\n",
    "\n",
    "    i += 3\n",
    "\n",
    "    j -= 1\n",
    "    count += 1\n",
    "print(count)\n"
   ]
  },
  {
   "cell_type": "code",
   "execution_count": 5,
   "id": "9fe53ce1",
   "metadata": {
    "scrolled": true
   },
   "outputs": [
    {
     "name": "stdout",
     "output_type": "stream",
     "text": [
      "J,h,o,n,"
     ]
    }
   ],
   "source": [
    "for l in \"Jhon\":\n",
    "\n",
    "   if l == \"o\":\n",
    "\n",
    "      pass\n",
    "\n",
    "   print(l, end=\",\")"
   ]
  },
  {
   "cell_type": "code",
   "execution_count": 7,
   "id": "52c3700b",
   "metadata": {},
   "outputs": [
    {
     "name": "stdout",
     "output_type": "stream",
     "text": [
      "10=50\n"
     ]
    }
   ],
   "source": [
    "tuples = (10, 20, 30, 0)\n",
    "\n",
    "(a, *b, c) = tuples\n",
    "\n",
    "a = a + c\n",
    "\n",
    "c = b[0] + b[1]\n",
    "\n",
    "print(a, c, sep=\"=\")"
   ]
  },
  {
   "cell_type": "code",
   "execution_count": 12,
   "id": "30338705",
   "metadata": {},
   "outputs": [
    {
     "name": "stdout",
     "output_type": "stream",
     "text": [
      "10 3\n",
      "11 2\n",
      "12 11\n",
      "13 2\n"
     ]
    }
   ],
   "source": [
    "for num in range(10, 14):\n",
    "\n",
    "   for i in range(2, num):\n",
    "\n",
    "       if num%i == 1:\n",
    "\n",
    "          print(num, i)\n",
    "\n",
    "          break"
   ]
  }
 ],
 "metadata": {
  "kernelspec": {
   "display_name": "Python 3 (ipykernel)",
   "language": "python",
   "name": "python3"
  },
  "language_info": {
   "codemirror_mode": {
    "name": "ipython",
    "version": 3
   },
   "file_extension": ".py",
   "mimetype": "text/x-python",
   "name": "python",
   "nbconvert_exporter": "python",
   "pygments_lexer": "ipython3",
   "version": "3.11.3"
  }
 },
 "nbformat": 4,
 "nbformat_minor": 5
}
