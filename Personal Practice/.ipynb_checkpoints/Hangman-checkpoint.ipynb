{
 "cells": [
  {
   "cell_type": "code",
   "execution_count": 5,
   "id": "62446839",
   "metadata": {},
   "outputs": [
    {
     "ename": "ModuleNotFoundError",
     "evalue": "No module named 'hangman_words'",
     "output_type": "error",
     "traceback": [
      "\u001b[1;31m---------------------------------------------------------------------------\u001b[0m",
      "\u001b[1;31mModuleNotFoundError\u001b[0m                       Traceback (most recent call last)",
      "Cell \u001b[1;32mIn[5], line 5\u001b[0m\n\u001b[0;32m      1\u001b[0m \u001b[38;5;28;01mimport\u001b[39;00m \u001b[38;5;21;01mrandom\u001b[39;00m\n\u001b[0;32m      3\u001b[0m \u001b[38;5;66;03m#TODO-1: - Update the word list to use the 'word_list' from hangman_words.py\u001b[39;00m\n\u001b[0;32m      4\u001b[0m \u001b[38;5;66;03m#Delete this line: word_list = [\"ardvark\", \"baboon\", \"camel\"]\u001b[39;00m\n\u001b[1;32m----> 5\u001b[0m \u001b[38;5;28;01mfrom\u001b[39;00m \u001b[38;5;21;01mhangman_words\u001b[39;00m \u001b[38;5;28;01mimport\u001b[39;00m word_list\n\u001b[0;32m      7\u001b[0m chosen_word \u001b[38;5;241m=\u001b[39m random\u001b[38;5;241m.\u001b[39mchoice(word_list)\n\u001b[0;32m      8\u001b[0m word_length \u001b[38;5;241m=\u001b[39m \u001b[38;5;28mlen\u001b[39m(chosen_word)\n",
      "\u001b[1;31mModuleNotFoundError\u001b[0m: No module named 'hangman_words'"
     ]
    }
   ],
   "source": [
    "import random\n",
    "\n",
    "#TODO-1: - Update the word list to use the 'word_list' from hangman_words.py\n",
    "#Delete this line: word_list = [\"ardvark\", \"baboon\", \"camel\"]\n",
    "from hangman_words import word_list\n",
    "\n",
    "chosen_word = random.choice(word_list)\n",
    "word_length = len(chosen_word)\n",
    "\n",
    "end_of_game = False\n",
    "lives = 6\n",
    "\n",
    "#TODO-3: - Import the logo from hangman_art.py and print it at the start of the game.\n",
    "from hangman_art import logo\n",
    "print(logo)\n",
    "\n",
    "#Testing code\n",
    "\n",
    "print(f'Pssst, the solution is {chosen_word}.')\n",
    "#Create blanks\n",
    "display = []\n",
    "for _ in range(word_length):\n",
    "    display.append(\"-\")\n",
    "\n",
    "while not end_of_game:\n",
    "    guess = input(\"Guess a letter: \").lower()\n",
    "\n",
    "#TODO-4: - If the user has entered a letter they've already guessed, print the letter and let them know.\n",
    "if guess in display:\n",
    "    print(f\"You've already guessed {guess}\")\n",
    "#Check guessed letter\n",
    "for position in range(word_length):\n",
    "    letter = chosen_word[position]\n",
    "    #print(f\"Current position: {position}\\n Current letter: {letter}\\n Guessed letter: {guess}\")\n",
    "    if letter == guess:\n",
    "        display[position] = letter\n",
    "#Check if user is wrong.\n",
    "if guess not in chosen_word:\n",
    "    #TODO-5: - If the letter is not in the chosen_word, print out the letter and let them know it's not in the word.\n",
    "    print(f\"You guessed {guess}, that's not in the word. You lose a life.\")\n",
    "    \n",
    "    lives -= 1\n",
    "    if lives == 0:\n",
    "        end_of_game = True\n",
    "        print(\"You lose.\")\n",
    "#Join all the elements in the list and turn it into a String.\n",
    "print(f\"{' '.join(display)}\")\n",
    "#Check if user has got all letters.\n",
    "if \"_\" not in display:\n",
    "    end_of_game = True\n",
    "    print(\"You win.\")\n",
    "#TODO-2: - Import the stages from hangman_art.py and make this error go away.\n",
    "from hangman_art import stages\n",
    "print(stages[lives])"
   ]
  }
 ],
 "metadata": {
  "kernelspec": {
   "display_name": "Python 3 (ipykernel)",
   "language": "python",
   "name": "python3"
  },
  "language_info": {
   "codemirror_mode": {
    "name": "ipython",
    "version": 3
   },
   "file_extension": ".py",
   "mimetype": "text/x-python",
   "name": "python",
   "nbconvert_exporter": "python",
   "pygments_lexer": "ipython3",
   "version": "3.11.3"
  }
 },
 "nbformat": 4,
 "nbformat_minor": 5
}
