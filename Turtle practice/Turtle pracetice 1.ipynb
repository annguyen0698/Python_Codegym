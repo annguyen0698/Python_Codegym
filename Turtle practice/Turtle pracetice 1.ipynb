{
 "cells": [
  {
   "cell_type": "markdown",
   "id": "0ebbc7ae",
   "metadata": {},
   "source": [
    "# Sử dụng turtle"
   ]
  },
  {
   "cell_type": "markdown",
   "id": "01c79e68",
   "metadata": {},
   "source": [
    "Để sử dụng phương thức của turtle ta cần import thư viện turtle. \n",
    "\n",
    "Tạo chương trình sử dụng turtle gồm 4 bước như sau:\n",
    "\n",
    "--Bước 1: import module turtle\n",
    "\n",
    "from turtle import *\n",
    "# or\n",
    "\n",
    "import turtle\n",
    "\n",
    "--Bước 2: Tạo một đối tượng turtle\n",
    "\n",
    "turtle = Turtle()\n",
    "hoặc \n",
    "\n",
    "t = turtle.Turtle()\n",
    "turtle, t là tên các đối tượng được tạo từ Turtle, bạn có thể đặt tên khác đi cho phù hợp. \n",
    "\n",
    "--Bước 3: Vẽ bằng cách sử dụng các phương thức của turtle\n",
    "\n",
    "Di chuyển về phía trước 100 pixel \n",
    "\n",
    "turtle.forward();\n",
    "Bước 4: Kết thúc vẽ turtle.done()\n",
    "\n",
    "turtle.done()"
   ]
  },
  {
   "cell_type": "markdown",
   "id": "5296d7ad",
   "metadata": {},
   "source": [
    "# Bài 1: Vẽ hình vuông "
   ]
  },
  {
   "cell_type": "code",
   "execution_count": null,
   "id": "bdefd6a6",
   "metadata": {},
   "outputs": [],
   "source": [
    "import turtle\n",
    "skk = turtle.Turtle()\n",
    " \n",
    "for i in range(4):\n",
    "    skk.forward(50)\n",
    "    skk.right(90)\n",
    "     \n",
    "turtle.done()"
   ]
  },
  {
   "cell_type": "markdown",
   "id": "8cae7be8",
   "metadata": {},
   "source": [
    "# Bài 2: Vẽ ngôi sao"
   ]
  },
  {
   "cell_type": "code",
   "execution_count": null,
   "id": "cfa83576",
   "metadata": {},
   "outputs": [],
   "source": [
    "import turtle\n",
    " \n",
    "star = turtle.Turtle()\n",
    " \n",
    "for i in range(50):\n",
    "    star.forward(50)\n",
    "    star.right(144)\n",
    "     \n",
    "turtle.done()"
   ]
  },
  {
   "cell_type": "markdown",
   "id": "54eea5c0",
   "metadata": {},
   "source": [
    "# Bài 3: Vẽ 1 hình tròn đơn giản"
   ]
  },
  {
   "cell_type": "code",
   "execution_count": 4,
   "id": "d1528484",
   "metadata": {},
   "outputs": [
    {
     "data": {
      "text/plain": [
       "<function turtle.mainloop()>"
      ]
     },
     "execution_count": 4,
     "metadata": {},
     "output_type": "execute_result"
    }
   ],
   "source": [
    "import turtle\n",
    "\n",
    "#đặt kích thước viền cho hình tròn là 5\n",
    "turtle.pensize (5)\n",
    " \n",
    "#đặt màu sắc cho viền hình tròn là màu đỏ\n",
    "turtle.pencolor (\"red\")\n",
    "\n",
    "#đặt màu nền cho hình tròn là màu xanh\n",
    "turtle.fillcolor (\"blue\")\n",
    "turtle.begin_fill()\n",
    "\n",
    "#đặt bán kính của hình tròn là 100\n",
    "turtle.circle (100)\n",
    "turtle.end_fill()\n",
    "turtle.done"
   ]
  },
  {
   "cell_type": "markdown",
   "id": "052cf94c",
   "metadata": {},
   "source": [
    "# 3*: Tuỳ chỉnh màu sắc và kích thước của hình tròn, ở bước này ta sẽ đổi lại màu viền và màu nền, bán kính "
   ]
  },
  {
   "cell_type": "code",
   "execution_count": 5,
   "id": "03a4b9ff",
   "metadata": {},
   "outputs": [
    {
     "data": {
      "text/plain": [
       "<function turtle.mainloop()>"
      ]
     },
     "execution_count": 5,
     "metadata": {},
     "output_type": "execute_result"
    }
   ],
   "source": [
    "import turtle\n",
    "\n",
    "#đặt kích thước viền cho hình tròn là 5\n",
    "turtle.pensize (5)\n",
    "\n",
    "#đặt màu sắc cho viền hình tròn là màu xanh\n",
    "turtle.pencolor (\"blue\")\n",
    "\n",
    "#for outer bigger circle\n",
    "#đặt màu nền cho hình tròn là màu đỏ\n",
    "turtle.fillcolor (\"red\")\n",
    "turtle.begin_fill()\n",
    "\n",
    "#đặt bán kính của hình tròn là 150\n",
    "turtle.circle (150)\n",
    "turtle.end_fill()\n",
    "turtle.done"
   ]
  },
  {
   "cell_type": "markdown",
   "id": "3eb70b0d",
   "metadata": {},
   "source": [
    "# 3**: Trong trường hợp này bạn đặt điểm bắt đầu vẽ hình tròn là tâm của màn hình. Nếu bạn muốn tùy chỉnh thay đổi điểm bắt đầu các bạn thay đổi bằng lệnh turtle.Turtle().goto(-40, 120)"
   ]
  },
  {
   "cell_type": "code",
   "execution_count": 6,
   "id": "04385904",
   "metadata": {},
   "outputs": [],
   "source": [
    "import turtle\n",
    "\n",
    "#đặt kích thước viền cho hình tròn là 5\n",
    "turtle.pensize (5)\n",
    "\n",
    "#đặt màu sắc cho viền hình tròn là màu đỏ\n",
    "turtle.pencolor (\"red\")\n",
    "\n",
    "#tuỳ chỉnh điểm bắt đầu vẽ hình tròn\n",
    "turtle.Turtle().goto(-40, 120)\n",
    "#đặt màu nền cho hình tròn là màu đỏ\n",
    "turtle.fillcolor (\"red\")\n",
    "turtle.begin_fill()\n",
    "\n",
    "#đặt bán kính của hình tròn là 150\n",
    "turtle.circle (150)\n",
    "turtle.end_fill()"
   ]
  },
  {
   "cell_type": "markdown",
   "id": "a266ed92",
   "metadata": {},
   "source": [
    "# Bài 4: Vẽ hình chữ nhật "
   ]
  },
  {
   "cell_type": "code",
   "execution_count": 7,
   "id": "823cbbb5",
   "metadata": {},
   "outputs": [],
   "source": [
    "import turtle \n",
    "t = turtle.Turtle()\n",
    " \n",
    "m = 100;\n",
    "n = 150;\n",
    " \n",
    "# vẽ cạnh đầu tiên\n",
    "t.forward(m) # đi thẳng với m đơn vị\n",
    "t.left(90)   # quay một góc 90 độ\n",
    " \n",
    "# vẽ cạnh thứ hai\n",
    "t.forward(n) # đi thẳng với n đơn vị\n",
    "t.left(90)   # quay một góc 90 độ\n",
    " \n",
    "# vẽ cạnh thứ ba\n",
    "t.forward(m) # đi thẳng với m đơn vị\n",
    "t.left(90)   # quay một góc 90 độ\n",
    " \n",
    "# vẽ cạnh thứ tư\n",
    "t.forward(n) # đi thẳng với n đơn vị\n",
    "t.left(90)   # quay một góc 90 độ"
   ]
  },
  {
   "cell_type": "code",
   "execution_count": 2,
   "id": "230a1748",
   "metadata": {},
   "outputs": [],
   "source": [
    "import turtle\n",
    "t = turtle.Turtle()\n",
    "\n",
    "t.pendown()\n",
    "\n",
    "t.penup()\n",
    "\n",
    "t.forward(100)\n",
    "\n",
    "t.right(90)\n",
    "\n",
    "t.forward(200)\n",
    "\n",
    "t.right(90)\n",
    "\n",
    "t.forward(100)\n",
    "\n",
    "t.right(90)\n",
    "\n",
    "t.forward(200)"
   ]
  }
 ],
 "metadata": {
  "kernelspec": {
   "display_name": "Python 3 (ipykernel)",
   "language": "python",
   "name": "python3"
  },
  "language_info": {
   "codemirror_mode": {
    "name": "ipython",
    "version": 3
   },
   "file_extension": ".py",
   "mimetype": "text/x-python",
   "name": "python",
   "nbconvert_exporter": "python",
   "pygments_lexer": "ipython3",
   "version": "3.11.3"
  }
 },
 "nbformat": 4,
 "nbformat_minor": 5
}
